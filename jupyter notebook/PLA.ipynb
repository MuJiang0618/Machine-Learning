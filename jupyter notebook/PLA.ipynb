{
 "cells": [
  {
   "cell_type": "markdown",
   "metadata": {},
   "source": [
    "# PLA"
   ]
  },
  {
   "cell_type": "code",
   "execution_count": 2,
   "metadata": {},
   "outputs": [
    {
     "name": "stderr",
     "output_type": "stream",
     "text": [
      "No handles with labels found to put in legend.\n"
     ]
    },
    {
     "data": {
      "image/png": "[encoded data removed]",
      "text/plain": [
       "<Figure size 432x288 with 1 Axes>"
      ]
     },
     "metadata": {},
     "output_type": "display_data"
    }
   ],
   "source": [
    "#2018/04/26   逃课写的hhhhhhhhhhhhhhhh\n",
    "\n",
    "from sklearn.datasets.samples_generator import *\n",
    "import matplotlib.pyplot as plt\n",
    "from numpy import *\n",
    "\n",
    "def createTrainDataSet():    #样本含2个特征,第一个1对应w0\n",
    "    trainData=[     [1, 1, 4],  \n",
    "                    [1, 2, 3],                         \n",
    "                    [1, -2, 2],   \n",
    "                    [1, 0, 1],   \n",
    "                    [1, 1, 2],\n",
    "                    [1, -1., 3.2], \n",
    "                    [1, -1.2, 2.5],\n",
    "                    [1, 0.5, 3.5],\n",
    "                    [1, -.5, 2.] ]\n",
    "    label= [1, 1, -1, -1, -1, 1, -1, 1, -1]  \n",
    "    return trainData, label\n",
    "\n",
    "def presee_distri():    #预览数据分布特点\n",
    "    x, y = createTrainDataSet()\n",
    "    xcord1 = [] ; ycord1 = [] ; xcord2 = [] ; ycord2 = []\n",
    "    m = len(x)\n",
    "    for i in range(m):\n",
    "        if y[i] == 1:\n",
    "            xcord1.append(x[i][1])\n",
    "            ycord1.append(x[i][2])\n",
    "\n",
    "        else:\n",
    "            xcord2.append(x[i][1])\n",
    "            ycord2.append(x[i][2])\n",
    "    plt.scatter(xcord1, ycord1, color='r')\n",
    "    plt.scatter(xcord2, ycord2, color='g')\n",
    "    plt.legend()\n",
    "    plt.show()\n",
    "\n",
    "def sigmoid(score):           #准确说这不是sigmoid，而是阶跃函数\n",
    "    if score > 0:\n",
    "        return 1\n",
    "    if score < 0:\n",
    "        return -1\n",
    "    return 0\n",
    "\n",
    "def createTestDataSet():       #测试集  \n",
    "    testData = [   [1, 1, 1],  \n",
    "                   [1, 2, 0],   \n",
    "                   [1, 2, 4],   \n",
    "                   [1, 1, 3]  ]\n",
    "    return testData\n",
    "\n",
    "def PLA():\n",
    "    data, label = createTrainDataSet()\n",
    "    data = array(data)\n",
    "    m, n = data.shape\n",
    "    weights = ones(n)  #weights为行向量nd\n",
    "    #weights = array([4.0, 4.0, 4.0])   #经过测试,weights初始化为4效果比初始化为1更好，为什么？\n",
    "    isComplete = True\n",
    "    while isComplete:  #只要上次遍历过程有一个点被分错，就要再进行一次遍历直到没有错分点\n",
    "        isComplete = False\n",
    "        for i in range(m):         #遍历每个样本\n",
    "            score = sum(weights * data[i, :])\n",
    "            if sigmoid(score) != label[i]:\n",
    "                isComplete = True\n",
    "                weights +=  label[i] * data[i]\n",
    "\n",
    "    return weights\n",
    "\n",
    "def plotBestFit():    #可视化\n",
    "    weights = PLA()\n",
    "    x, y = createTrainDataSet()\n",
    "    xcord1 = [] ; ycord1 = [] ; xcord2 = [] ; ycord2 = []\n",
    "    m = len(x)\n",
    "    for i in range(m):\n",
    "        if y[i] == 1:\n",
    "            xcord1.append(x[i][1])\n",
    "            ycord1.append(x[i][2])\n",
    "\n",
    "        else:\n",
    "            xcord2.append(x[i][1])\n",
    "            ycord2.append(x[i][2])\n",
    "    plt.scatter(xcord1, ycord1, color='r')\n",
    "    plt.scatter(xcord2, ycord2, color='g')\n",
    "\n",
    "    x_pred = arange(-2, 2, 0.2)\n",
    "    y_pred = (-weights[0] - weights[1] * x_pred) / weights[2]\n",
    "    plt.plot(x_pred, y_pred)\n",
    "\n",
    "    plt.xlabel('X1')\n",
    "    plt.ylabel('X2')\n",
    "    plt.legend()\n",
    "    plt.show()\n",
    "    \n",
    "    return \n",
    "\n",
    "plotBestFit()"
   ]
  },
  {
   "cell_type": "markdown",
   "metadata": {},
   "source": [
    "# 特征转换PLA"
   ]
  },
  {
   "cell_type": "code",
   "execution_count": 4,
   "metadata": {},
   "outputs": [
    {
     "data": {
      "image/png": "[encoded data removed]",
      "text/plain": [
       "<Figure size 432x288 with 1 Axes>"
      ]
     },
     "metadata": {},
     "output_type": "display_data"
    }
   ],
   "source": [
    "#2018/05/02\n",
    "from numpy import *\n",
    "import matplotlib.pyplot as plt\n",
    "\n",
    "def sigmoid(score):\n",
    "    if score > 0:\n",
    "        return 1\n",
    "    if score < 0:\n",
    "        return -1\n",
    "    return 0\n",
    "\n",
    "def PLA(dataArr, labels):\n",
    "    m, n = dataArr.shape\n",
    "    weights = ones(n)  #weights为行向量nd\n",
    "    #weights = array([4.0, 4.0, 4.0])   #经过测试,weights初始化为4效果比初始化为1更好，为什么？\n",
    "    isComplete = True\n",
    "    while isComplete:  #只要上次遍历过程有一个点被分错，就要再进行一次遍历直到没有错分点\n",
    "        isComplete = False\n",
    "        for i in range(m):         #遍历每个样本\n",
    "            score = sum(weights * dataArr[i, :])\n",
    "            if sigmoid(score) != labels[i]:\n",
    "                isComplete = True\n",
    "                weights +=  labels[i] * dataArr[i]\n",
    "    return weights\n",
    "\n",
    "def createTrainSet():\n",
    "    x1 = [0, 0, 0.2, 0.2, -0.8, -0.7, -0.8, -0.7, -0.8, -0.7, -0.6, 0.6, 0, 0.9, 0.6, 0.8, 0, -0.15, -0.3, -0.15, -0.2, -0.1]\n",
    "    x2 = [0.1, -0.2, 0.3, -0.2, -0.9, -0.7, 0.5, 0.9, 0.9, -0.8, -0.8, 0.9, -0.2, 0.8, -0.6, -0.7, 0.4, 0.6, 0.4, 0.3, -0.3, -0.4 ]\n",
    "    return x1, x2\n",
    "\n",
    "def getWeights():\n",
    "    x1, x2 = createTrainSet() \n",
    "\n",
    "    length = len(x1)\n",
    "    list_ = []\n",
    "    \n",
    "    for i in range(length):\n",
    "        temp_list = [1]\n",
    "        temp_list.append(x1[i] **2)\n",
    "        temp_list.append(x2[i] **2)\n",
    "        list_.append(temp_list)\n",
    "    dataArr = array(list_)\n",
    "\n",
    "    label_list = []                 #这里我是按离圆心的距离判断类别，因为懒\n",
    "    for j in range(length):\n",
    "        dist = x1[j] **2 + x2[j] **2\n",
    "        if dist < 0.4:\n",
    "            label_list.append(-1)\n",
    "\n",
    "        else:\n",
    "            label_list.append(1)\n",
    "\n",
    "    weights = PLA(dataArr, label_list)\n",
    "    return weights\n",
    "\n",
    "#[-1.    1.49  1.4 ]  weights\n",
    "\n",
    "def plotBestFit(weights):\n",
    "    x_test = arange(-1, 1.1, 0.1)\n",
    "    y_test = pow(1 - x_test**2, 0.5)\n",
    "    x1_train, x2_train = createTrainSet()\n",
    "    \n",
    "    plt.scatter(x1_train, x2_train, marker='o', s=25, color='b')\n",
    "    plt.plot(x_test, y_test, label='Hyperplane', color='r')\n",
    "    plt.plot(x_test, -y_test, color='r')    #圆的下半部分，y < 0\n",
    "    plt.xlabel('X1')\n",
    "    plt.ylabel('X2')\n",
    "    plt.legend()\n",
    "    plt.show()\n",
    "\n",
    "def seeResult():\n",
    "    weights = getWeights()\n",
    "    plotBestFit(weights)\n",
    "    return \n",
    "\n",
    "seeResult()"
   ]
  },
  {
   "cell_type": "markdown",
   "metadata": {},
   "source": [
    "圈里的点其实是红色的"
   ]
  }
 ],
 "metadata": {
  "kernelspec": {
   "display_name": "Python 3",
   "language": "python",
   "name": "python3"
  },
  "language_info": {
   "codemirror_mode": {
    "name": "ipython",
    "version": 3
   },
   "file_extension": ".py",
   "mimetype": "text/x-python",
   "name": "python",
   "nbconvert_exporter": "python",
   "pygments_lexer": "ipython3",
   "version": "3.6.5"
  }
 },
 "nbformat": 4,
 "nbformat_minor": 2
}
