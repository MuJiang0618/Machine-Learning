{
 "cells": [
  {
   "cell_type": "markdown",
   "metadata": {},
   "source": [
    "# XGBoost"
   ]
  },
  {
   "cell_type": "markdown",
   "metadata": {},
   "source": [
    "就差一个特征值为real类型的regression数据集来验证性能了"
   ]
  },
  {
   "cell_type": "markdown",
   "metadata": {},
   "source": [
    "## XGBoost的regression版本, 损失函数为平方损失"
   ]
  },
  {
   "cell_type": "code",
   "execution_count": 1,
   "metadata": {},
   "outputs": [],
   "source": [
    "import numpy as np"
   ]
  },
  {
   "cell_type": "code",
   "execution_count": 2,
   "metadata": {},
   "outputs": [],
   "source": [
    "def tree_predict(x, tree):\n",
    "    if x[tree['split_feat']] <= tree['split_val']:\n",
    "        if type(tree['left']).__name__ == 'dict':\n",
    "            return tree_predict(x, tree['left'])\n",
    "        else:\n",
    "            return tree['left']\n",
    "        \n",
    "    else:\n",
    "        if type(tree['right']).__name__ == 'dict':\n",
    "            return tree_predict(x, tree['right'])\n",
    "        else:\n",
    "            return tree['right']"
   ]
  },
  {
   "cell_type": "code",
   "execution_count": 3,
   "metadata": {},
   "outputs": [],
   "source": [
    "def XGBoost_predict(X, previous_trees):\n",
    "    result = []\n",
    "    for i in range(X.shape[0]):\n",
    "        result.append(0)\n",
    "        for tree in previous_trees:\n",
    "            result[-1] += tree_predict(X[i], tree)\n",
    "            \n",
    "    return np.array(result)"
   ]
  },
  {
   "cell_type": "code",
   "execution_count": 4,
   "metadata": {},
   "outputs": [],
   "source": [
    "def loss_fun(y, y_hat):\n",
    "    return 0.5 * ((y - y_hat) **2)\n",
    "\n",
    "def calGain(dataSet, tree_list, loss_fun=None, lambda_=1):\n",
    "    y_hat = XGBoost_predict(dataSet[:, :-1], tree_list)\n",
    "    G = (y_hat - dataSet[:, -1]).sum()\n",
    "    H = dataSet.shape[0]    #二阶导为1, 所以 H == 样本数\n",
    "    \n",
    "    return (G **2 / (H + lambda_)) * (-0.5)"
   ]
  },
  {
   "cell_type": "code",
   "execution_count": 5,
   "metadata": {},
   "outputs": [],
   "source": [
    "def splitDataSet(dataSet, feat_index, feat_val):\n",
    "    left_index = dataSet[:, feat_index] <= feat_val\n",
    "    right_index = dataSet[:, feat_index] > feat_val\n",
    "    \n",
    "    left_dataSet = dataSet[left_index]\n",
    "    right_dataSet = dataSet[right_index]\n",
    "    \n",
    "    return left_dataSet, right_dataSet"
   ]
  },
  {
   "cell_type": "code",
   "execution_count": 6,
   "metadata": {},
   "outputs": [],
   "source": [
    "def findBestSplit(dataSet, avaliable_feat, previous_trees):\n",
    "    base_cost = calGain(dataSet, previous_trees)\n",
    "    cur_max_gain = 0 ; best_split_feat = -1 ; best_split_val = -1\n",
    "    for feat_index in avaliable_feat:\n",
    "        feat_valueRange = np.array(list(set(dataSet[:, feat_index])))   #获取该特征所有非重复取值\n",
    "        sorted_feat_valueRange = sorted(feat_valueRange)\n",
    "        \n",
    "        for j in range(len(sorted_feat_valueRange) - 1):\n",
    "            split_val = (sorted_feat_valueRange[j] + sorted_feat_valueRange[j+1]) / 2\n",
    "            left_dataSet, right_dataSet = splitDataSet(dataSet, feat_index, split_val)\n",
    "            gain = base_cost - calGain(left_dataSet, previous_trees) - calGain(right_dataSet, previous_trees)\n",
    "\n",
    "            if gain > cur_max_gain:\n",
    "                cur_max_gain = gain\n",
    "                best_split_feat = feat_index\n",
    "                best_split_val = split_val\n",
    "    \n",
    "    if best_split_feat == -1:    #不进一步划分,损失函数最小\n",
    "        return None, None, None\n",
    "    \n",
    "    avaliable_feat.remove(best_split_feat)    #去掉已经作为过划分特征的特征\n",
    "    \n",
    "    return best_split_feat, best_split_val, avaliable_feat"
   ]
  },
  {
   "cell_type": "code",
   "execution_count": 7,
   "metadata": {},
   "outputs": [],
   "source": [
    "def leaf_func(subSet, previous_trees, lambda_=1):\n",
    "    y_hat = XGBoost_predict(subSet[:, :-1], previous_trees)\n",
    "    G = (y_hat - subSet[:, -1]).sum()\n",
    "    H = subSet.shape[0]\n",
    "    \n",
    "    return -(G / (H + lambda_))"
   ]
  },
  {
   "cell_type": "code",
   "execution_count": 8,
   "metadata": {},
   "outputs": [],
   "source": [
    "def createTree(dataSet, previous_trees, leaf_func=leaf_func, max_depth=5, avaliable_feat_list=None, num_in_leaf=5):\n",
    "    tree_dict = {}\n",
    "    avaliable_feat = [i for i in range(len(dataSet[0]) -1)]\n",
    "    best_split_feat, best_split_val, avaliable_feat = findBestSplit(dataSet, avaliable_feat, previous_trees)  #best_split_feat是某特征的索引值\n",
    "    \n",
    "    if best_split_feat == None:    #如果不划分该节点时损失函数最小的话\n",
    "        return leaf_func(dataSet, previous_trees)\n",
    "    \n",
    "    tree_dict['split_feat'] = best_split_feat\n",
    "    tree_dict['split_val'] = best_split_val\n",
    "    left_sub_dataSet, right_sub_dataSet = splitDataSet(dataSet, best_split_feat, best_split_val)\n",
    "    \n",
    "    if max_depth == 0:\n",
    "        tree_dict['left'] = leaf_func(left_sub_dataSet, previous_trees)\n",
    "        tree_dict['right'] = leaf_func(right_sub_dataSet, previous_trees)\n",
    "        return tree_dict\n",
    "\n",
    "    if len(left_sub_dataSet) < num_in_leaf:\n",
    "        tree_dict['left'] = leaf_func(left_sub_dataSet, previous_trees)\n",
    "    else:\n",
    "        tree_dict['left'] = createTree(left_sub_dataSet, previous_trees, leaf_func, max_depth-1, avaliable_feat)\n",
    "        \n",
    "    if len(right_sub_dataSet) < num_in_leaf:\n",
    "        tree_dict['right'] = leaf_func(right_sub_dataSet, previous_trees)\n",
    "    else:\n",
    "        tree_dict['right'] = createTree(right_sub_dataSet, previous_trees, leaf_func,  max_depth-1, avaliable_feat)\n",
    "        \n",
    "    return tree_dict"
   ]
  },
  {
   "cell_type": "code",
   "execution_count": 9,
   "metadata": {},
   "outputs": [],
   "source": [
    "def buildXGBoost(dataSet, num_tree=5):\n",
    "    tree_list = [{'split_feat':0, 'split_val': 1e8, 'left':0}]\n",
    "    for i in range(num_tree):\n",
    "        tree_list.append(createTree(dataSet, tree_list.copy()))   #需要利用已有的树对样本的预测值\n",
    "    \n",
    "    return tree_list"
   ]
  }
 ],
 "metadata": {
  "kernelspec": {
   "display_name": "Python 3",
   "language": "python",
   "name": "python3"
  },
  "language_info": {
   "codemirror_mode": {
    "name": "ipython",
    "version": 3
   },
   "file_extension": ".py",
   "mimetype": "text/x-python",
   "name": "python",
   "nbconvert_exporter": "python",
   "pygments_lexer": "ipython3",
   "version": "3.6.5"
  }
 },
 "nbformat": 4,
 "nbformat_minor": 2
}
