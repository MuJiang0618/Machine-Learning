{
 "cells": [
  {
   "cell_type": "markdown",
   "metadata": {},
   "source": [
    "# Keras鸢尾花分类"
   ]
  },
  {
   "cell_type": "markdown",
   "metadata": {},
   "source": [
    "思考:为什么神经网络进行分类,最后的输出层神经元个数要等于类别数(OneHot), 为什么比直接输出预测的类别要好?"
   ]
  },
  {
   "cell_type": "markdown",
   "metadata": {},
   "source": [
    "如何获取输出层输出的值?"
   ]
  },
  {
   "cell_type": "code",
   "execution_count": 6,
   "metadata": {},
   "outputs": [],
   "source": [
    "from sklearn.datasets import load_iris\n",
    "from sklearn.cross_validation import train_test_split\n",
    "from keras.models import Sequential  #Sequential:一层一层地加神经网络\n",
    "from keras.layers import Dense    #Dense:全连接神经网络\n",
    "from keras.utils import np_utils"
   ]
  },
  {
   "cell_type": "code",
   "execution_count": 18,
   "metadata": {},
   "outputs": [],
   "source": [
    "X = load_iris().data ; y = load_iris().target\n",
    "y_oneHot = np_utils.to_categorical(y, num_classes=3)\n",
    "train_x, test_x, train_y, test_y = train_test_split(X, y_oneHot, test_size=0.8)"
   ]
  },
  {
   "cell_type": "markdown",
   "metadata": {},
   "source": [
    "## 搭建模型"
   ]
  },
  {
   "cell_type": "code",
   "execution_count": 33,
   "metadata": {
    "scrolled": true
   },
   "outputs": [
    {
     "name": "stderr",
     "output_type": "stream",
     "text": [
      "D:\\study\\Anaconda\\lib\\site-packages\\ipykernel_launcher.py:5: UserWarning: The `nb_epoch` argument in `fit` has been renamed `epochs`.\n",
      "  \"\"\"\n"
     ]
    },
    {
     "name": "stdout",
     "output_type": "stream",
     "text": [
      "Epoch 1/100\n",
      "30/30 [==============================] - 0s 8ms/step - loss: 3.0442 - acc: 0.2667\n",
      "Epoch 2/100\n",
      "30/30 [==============================] - 0s 33us/step - loss: 3.0314 - acc: 0.2667\n",
      "Epoch 3/100\n",
      "30/30 [==============================] - 0s 67us/step - loss: 3.0142 - acc: 0.2667\n",
      "Epoch 4/100\n",
      "30/30 [==============================] - 0s 67us/step - loss: 2.9970 - acc: 0.2667\n",
      "Epoch 5/100\n",
      "30/30 [==============================] - 0s 33us/step - loss: 2.9799 - acc: 0.2667\n",
      "Epoch 6/100\n",
      "30/30 [==============================] - 0s 67us/step - loss: 2.9628 - acc: 0.2667\n",
      "Epoch 7/100\n",
      "30/30 [==============================] - 0s 33us/step - loss: 2.9463 - acc: 0.2667\n",
      "Epoch 8/100\n",
      "30/30 [==============================] - 0s 66us/step - loss: 2.9292 - acc: 0.2667\n",
      "Epoch 9/100\n",
      "30/30 [==============================] - 0s 33us/step - loss: 2.9123 - acc: 0.2667\n",
      "Epoch 10/100\n",
      "30/30 [==============================] - 0s 33us/step - loss: 2.8953 - acc: 0.2667\n",
      "Epoch 11/100\n",
      "30/30 [==============================] - 0s 33us/step - loss: 2.8784 - acc: 0.2667\n",
      "Epoch 12/100\n",
      "30/30 [==============================] - 0s 67us/step - loss: 2.8615 - acc: 0.2667\n",
      "Epoch 13/100\n",
      "30/30 [==============================] - 0s 33us/step - loss: 2.8447 - acc: 0.2667\n",
      "Epoch 14/100\n",
      "30/30 [==============================] - 0s 33us/step - loss: 2.8278 - acc: 0.2667\n",
      "Epoch 15/100\n",
      "30/30 [==============================] - 0s 33us/step - loss: 2.8109 - acc: 0.2667\n",
      "Epoch 16/100\n",
      "30/30 [==============================] - 0s 100us/step - loss: 2.7941 - acc: 0.2667\n",
      "Epoch 17/100\n",
      "30/30 [==============================] - 0s 33us/step - loss: 2.7774 - acc: 0.2667\n",
      "Epoch 18/100\n",
      "30/30 [==============================] - 0s 33us/step - loss: 2.7607 - acc: 0.2667\n",
      "Epoch 19/100\n",
      "30/30 [==============================] - 0s 67us/step - loss: 2.7439 - acc: 0.2667\n",
      "Epoch 20/100\n",
      "30/30 [==============================] - 0s 33us/step - loss: 2.7271 - acc: 0.2667\n",
      "Epoch 21/100\n",
      "30/30 [==============================] - 0s 33us/step - loss: 2.7103 - acc: 0.2667\n",
      "Epoch 22/100\n",
      "30/30 [==============================] - 0s 66us/step - loss: 2.6937 - acc: 0.2667\n",
      "Epoch 23/100\n",
      "30/30 [==============================] - 0s 33us/step - loss: 2.6770 - acc: 0.2667\n",
      "Epoch 24/100\n",
      "30/30 [==============================] - 0s 33us/step - loss: 2.6605 - acc: 0.2667\n",
      "Epoch 25/100\n",
      "30/30 [==============================] - 0s 33us/step - loss: 2.6439 - acc: 0.2667\n",
      "Epoch 26/100\n",
      "30/30 [==============================] - 0s 33us/step - loss: 2.6274 - acc: 0.2667\n",
      "Epoch 27/100\n",
      "30/30 [==============================] - 0s 33us/step - loss: 2.6110 - acc: 0.2667\n",
      "Epoch 28/100\n",
      "30/30 [==============================] - 0s 100us/step - loss: 2.5947 - acc: 0.2667\n",
      "Epoch 29/100\n",
      "30/30 [==============================] - 0s 33us/step - loss: 2.5783 - acc: 0.2667\n",
      "Epoch 30/100\n",
      "30/30 [==============================] - 0s 33us/step - loss: 2.5618 - acc: 0.2667\n",
      "Epoch 31/100\n",
      "30/30 [==============================] - 0s 33us/step - loss: 2.5456 - acc: 0.2667\n",
      "Epoch 32/100\n",
      "30/30 [==============================] - 0s 33us/step - loss: 2.5293 - acc: 0.2667\n",
      "Epoch 33/100\n",
      "30/30 [==============================] - 0s 66us/step - loss: 2.5131 - acc: 0.2667\n",
      "Epoch 34/100\n",
      "30/30 [==============================] - 0s 67us/step - loss: 2.4968 - acc: 0.2667\n",
      "Epoch 35/100\n",
      "30/30 [==============================] - 0s 33us/step - loss: 2.4806 - acc: 0.2667\n",
      "Epoch 36/100\n",
      "30/30 [==============================] - 0s 33us/step - loss: 2.4643 - acc: 0.2667\n",
      "Epoch 37/100\n",
      "30/30 [==============================] - 0s 33us/step - loss: 2.4482 - acc: 0.2667\n",
      "Epoch 38/100\n",
      "30/30 [==============================] - 0s 33us/step - loss: 2.4320 - acc: 0.2667\n",
      "Epoch 39/100\n",
      "30/30 [==============================] - 0s 33us/step - loss: 2.4159 - acc: 0.2667\n",
      "Epoch 40/100\n",
      "30/30 [==============================] - 0s 33us/step - loss: 2.3999 - acc: 0.2667\n",
      "Epoch 41/100\n",
      "30/30 [==============================] - 0s 33us/step - loss: 2.3839 - acc: 0.2667\n",
      "Epoch 42/100\n",
      "30/30 [==============================] - 0s 33us/step - loss: 2.3679 - acc: 0.2667\n",
      "Epoch 43/100\n",
      "30/30 [==============================] - 0s 33us/step - loss: 2.3518 - acc: 0.2667\n",
      "Epoch 44/100\n",
      "30/30 [==============================] - 0s 67us/step - loss: 2.3357 - acc: 0.2667\n",
      "Epoch 45/100\n",
      "30/30 [==============================] - 0s 67us/step - loss: 2.3197 - acc: 0.2667\n",
      "Epoch 46/100\n",
      "30/30 [==============================] - 0s 33us/step - loss: 2.3038 - acc: 0.2667\n",
      "Epoch 47/100\n",
      "30/30 [==============================] - 0s 33us/step - loss: 2.2880 - acc: 0.2667\n",
      "Epoch 48/100\n",
      "30/30 [==============================] - 0s 33us/step - loss: 2.2720 - acc: 0.2667\n",
      "Epoch 49/100\n",
      "30/30 [==============================] - 0s 33us/step - loss: 2.2561 - acc: 0.2667\n",
      "Epoch 50/100\n",
      "30/30 [==============================] - 0s 67us/step - loss: 2.2403 - acc: 0.2667\n",
      "Epoch 51/100\n",
      "30/30 [==============================] - 0s 33us/step - loss: 2.2246 - acc: 0.2667\n",
      "Epoch 52/100\n",
      "30/30 [==============================] - 0s 33us/step - loss: 2.2088 - acc: 0.2667\n",
      "Epoch 53/100\n",
      "30/30 [==============================] - 0s 33us/step - loss: 2.1929 - acc: 0.2667\n",
      "Epoch 54/100\n",
      "30/30 [==============================] - 0s 66us/step - loss: 2.1771 - acc: 0.2667\n",
      "Epoch 55/100\n",
      "30/30 [==============================] - 0s 33us/step - loss: 2.1614 - acc: 0.2667\n",
      "Epoch 56/100\n",
      "30/30 [==============================] - 0s 33us/step - loss: 2.1455 - acc: 0.2667\n",
      "Epoch 57/100\n",
      "30/30 [==============================] - 0s 33us/step - loss: 2.1298 - acc: 0.2667\n",
      "Epoch 58/100\n",
      "30/30 [==============================] - 0s 33us/step - loss: 2.1141 - acc: 0.2667\n",
      "Epoch 59/100\n",
      "30/30 [==============================] - 0s 33us/step - loss: 2.0984 - acc: 0.2667\n",
      "Epoch 60/100\n",
      "30/30 [==============================] - 0s 33us/step - loss: 2.0827 - acc: 0.2667\n",
      "Epoch 61/100\n",
      "30/30 [==============================] - 0s 33us/step - loss: 2.0670 - acc: 0.2667\n",
      "Epoch 62/100\n",
      "30/30 [==============================] - 0s 33us/step - loss: 2.0513 - acc: 0.2667\n",
      "Epoch 63/100\n",
      "30/30 [==============================] - 0s 67us/step - loss: 2.0356 - acc: 0.2667\n",
      "Epoch 64/100\n",
      "30/30 [==============================] - 0s 65us/step - loss: 2.0199 - acc: 0.2667\n",
      "Epoch 65/100\n",
      "30/30 [==============================] - 0s 33us/step - loss: 2.0042 - acc: 0.2667\n",
      "Epoch 66/100\n",
      "30/30 [==============================] - 0s 33us/step - loss: 1.9885 - acc: 0.2667\n",
      "Epoch 67/100\n",
      "30/30 [==============================] - 0s 33us/step - loss: 1.9728 - acc: 0.2667\n",
      "Epoch 68/100\n",
      "30/30 [==============================] - 0s 33us/step - loss: 1.9569 - acc: 0.2667\n",
      "Epoch 69/100\n",
      "30/30 [==============================] - 0s 33us/step - loss: 1.9417 - acc: 0.2667\n",
      "Epoch 70/100\n",
      "30/30 [==============================] - 0s 67us/step - loss: 1.9271 - acc: 0.2667\n",
      "Epoch 71/100\n",
      "30/30 [==============================] - 0s 33us/step - loss: 1.9128 - acc: 0.2667\n",
      "Epoch 72/100\n",
      "30/30 [==============================] - 0s 33us/step - loss: 1.8986 - acc: 0.2667\n",
      "Epoch 73/100\n",
      "30/30 [==============================] - 0s 33us/step - loss: 1.8846 - acc: 0.2667\n",
      "Epoch 74/100\n",
      "30/30 [==============================] - 0s 33us/step - loss: 1.8707 - acc: 0.2667\n",
      "Epoch 75/100\n",
      "30/30 [==============================] - 0s 33us/step - loss: 1.8570 - acc: 0.2667\n",
      "Epoch 76/100\n",
      "30/30 [==============================] - 0s 33us/step - loss: 1.8435 - acc: 0.2667\n",
      "Epoch 77/100\n",
      "30/30 [==============================] - 0s 33us/step - loss: 1.8300 - acc: 0.2667\n",
      "Epoch 78/100\n",
      "30/30 [==============================] - 0s 33us/step - loss: 1.8166 - acc: 0.2667\n",
      "Epoch 79/100\n",
      "30/30 [==============================] - 0s 33us/step - loss: 1.8033 - acc: 0.2667\n",
      "Epoch 80/100\n",
      "30/30 [==============================] - 0s 33us/step - loss: 1.7903 - acc: 0.2667\n",
      "Epoch 81/100\n",
      "30/30 [==============================] - 0s 66us/step - loss: 1.7774 - acc: 0.2667\n",
      "Epoch 82/100\n",
      "30/30 [==============================] - 0s 33us/step - loss: 1.7650 - acc: 0.2667\n",
      "Epoch 83/100\n",
      "30/30 [==============================] - 0s 0us/step - loss: 1.7527 - acc: 0.2667\n",
      "Epoch 84/100\n",
      "30/30 [==============================] - 0s 33us/step - loss: 1.7404 - acc: 0.2667\n",
      "Epoch 85/100\n",
      "30/30 [==============================] - 0s 33us/step - loss: 1.7282 - acc: 0.2667\n",
      "Epoch 86/100\n",
      "30/30 [==============================] - 0s 33us/step - loss: 1.7164 - acc: 0.2667\n"
     ]
    },
    {
     "name": "stdout",
     "output_type": "stream",
     "text": [
      "Epoch 87/100\n",
      "30/30 [==============================] - 0s 33us/step - loss: 1.7050 - acc: 0.2667\n",
      "Epoch 88/100\n",
      "30/30 [==============================] - 0s 33us/step - loss: 1.6935 - acc: 0.2667\n",
      "Epoch 89/100\n",
      "30/30 [==============================] - 0s 33us/step - loss: 1.6820 - acc: 0.2667\n",
      "Epoch 90/100\n",
      "30/30 [==============================] - 0s 66us/step - loss: 1.6707 - acc: 0.2667\n",
      "Epoch 91/100\n",
      "30/30 [==============================] - 0s 33us/step - loss: 1.6593 - acc: 0.2667\n",
      "Epoch 92/100\n",
      "30/30 [==============================] - 0s 33us/step - loss: 1.6480 - acc: 0.2667\n",
      "Epoch 93/100\n",
      "30/30 [==============================] - 0s 33us/step - loss: 1.6366 - acc: 0.2667\n",
      "Epoch 94/100\n",
      "30/30 [==============================] - 0s 33us/step - loss: 1.6253 - acc: 0.2667\n",
      "Epoch 95/100\n",
      "30/30 [==============================] - 0s 33us/step - loss: 1.6140 - acc: 0.2667\n",
      "Epoch 96/100\n",
      "30/30 [==============================] - 0s 33us/step - loss: 1.6027 - acc: 0.2667\n",
      "Epoch 97/100\n",
      "30/30 [==============================] - 0s 33us/step - loss: 1.5914 - acc: 0.2667\n",
      "Epoch 98/100\n",
      "30/30 [==============================] - 0s 33us/step - loss: 1.5801 - acc: 0.2667\n",
      "Epoch 99/100\n",
      "30/30 [==============================] - 0s 33us/step - loss: 1.5689 - acc: 0.2667\n",
      "Epoch 100/100\n",
      "30/30 [==============================] - 0s 33us/step - loss: 1.5578 - acc: 0.2667\n"
     ]
    },
    {
     "data": {
      "text/plain": [
       "<keras.callbacks.History at 0x1e8fb9b17f0>"
      ]
     },
     "execution_count": 33,
     "metadata": {},
     "output_type": "execute_result"
    }
   ],
   "source": [
    "model = Sequential([ Dense(6, input_dim=4, activation='relu'),\n",
    "                     Dense(3, activation='sigmoid')])\n",
    "\n",
    "model.compile(loss='categorical_crossentropy', optimizer='Adam', metrics=['accuracy'])\n",
    "model.fit(train_x, train_y, nb_epoch=100)"
   ]
  },
  {
   "cell_type": "code",
   "execution_count": 43,
   "metadata": {},
   "outputs": [
    {
     "name": "stdout",
     "output_type": "stream",
     "text": [
      "['loss', 'acc']\n",
      "120/120 [==============================] - 0s 25us/step\n"
     ]
    },
    {
     "data": {
      "text/plain": [
       "[1.4323808749516804, 0.3500000019868215]"
      ]
     },
     "execution_count": 43,
     "metadata": {},
     "output_type": "execute_result"
    }
   ],
   "source": [
    "print(model.metrics_names)\n",
    "model.evaluate(test_x, test_y)"
   ]
  }
 ],
 "metadata": {
  "kernelspec": {
   "display_name": "Python 3",
   "language": "python",
   "name": "python3"
  },
  "language_info": {
   "codemirror_mode": {
    "name": "ipython",
    "version": 3
   },
   "file_extension": ".py",
   "mimetype": "text/x-python",
   "name": "python",
   "nbconvert_exporter": "python",
   "pygments_lexer": "ipython3",
   "version": "3.6.5"
  }
 },
 "nbformat": 4,
 "nbformat_minor": 2
}
