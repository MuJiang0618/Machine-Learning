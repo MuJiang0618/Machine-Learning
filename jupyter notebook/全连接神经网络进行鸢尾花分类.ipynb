{
 "cells": [
  {
   "cell_type": "markdown",
   "metadata": {},
   "source": [
    "# 全连接神经网络进行鸢尾花分类"
   ]
  },
  {
   "cell_type": "markdown",
   "metadata": {},
   "source": [
    "## 准备数据"
   ]
  },
  {
   "cell_type": "code",
   "execution_count": 1,
   "metadata": {},
   "outputs": [
    {
     "name": "stderr",
     "output_type": "stream",
     "text": [
      "D:\\study\\Anaconda\\lib\\site-packages\\h5py\\__init__.py:36: FutureWarning: Conversion of the second argument of issubdtype from `float` to `np.floating` is deprecated. In future, it will be treated as `np.float64 == np.dtype(float).type`.\n",
      "  from ._conv import register_converters as _register_converters\n",
      "D:\\study\\Anaconda\\lib\\site-packages\\sklearn\\cross_validation.py:41: DeprecationWarning: This module was deprecated in version 0.18 in favor of the model_selection module into which all the refactored classes and functions are moved. Also note that the interface of the new CV iterators are different from that of this module. This module will be removed in 0.20.\n",
      "  \"This module will be removed in 0.20.\", DeprecationWarning)\n"
     ]
    }
   ],
   "source": [
    "import numpy as np\n",
    "import tensorflow as tf\n",
    "from sklearn.datasets import *\n",
    "from sklearn.preprocessing import LabelBinarizer\n",
    "from sklearn.cross_validation import train_test_split\n",
    "import tensorflow as tf"
   ]
  },
  {
   "cell_type": "code",
   "execution_count": 2,
   "metadata": {},
   "outputs": [
    {
     "data": {
      "text/plain": [
       "(array([[-0.57735448, -1.32923192, -1.18540157, -0.29662364],\n",
       "        [ 0.13115641, -1.15647866,  0.68250921, -1.06701086],\n",
       "        [ 0.60609368,  0.15276936,  1.59648582,  0.77553312],\n",
       "        ...,\n",
       "        [ 0.12081775, -2.11301695,  0.92555748,  0.3152947 ],\n",
       "        [ 0.94552668,  0.86050877,  2.31428667,  0.52105849],\n",
       "        [-0.52171284, -1.16674083, -1.08090372,  1.14649076]]),\n",
       " array([1, 0, 2, 0, 0, 2, 2, 0, 2, 0, 1, 2, 2, 1, 0, 2, 1, 0, 0, 0, 0, 2,\n",
       "        2, 2, 2, 1, 2, 1, 1, 2, 2, 2, 1, 0, 2, 2, 1, 0, 1, 2, 2, 1, 0, 2,\n",
       "        2, 1, 0, 1, 2, 0, 0, 1, 2, 0, 2, 1, 0, 2, 2, 1, 0, 2, 0, 1, 2, 1,\n",
       "        0, 1, 0, 1, 1, 0, 0, 0, 2, 0, 2, 1, 2, 0, 2, 1, 1, 0, 1, 2, 1, 0,\n",
       "        1, 0, 0, 1, 1, 2, 1, 2, 1, 1, 1, 0, 1, 2, 0, 0, 2, 2, 1, 0, 1, 2,\n",
       "        0, 1, 1, 1, 1, 2, 2, 1, 2, 0, 2, 2, 0, 2, 1, 2, 1, 2, 1, 0, 0, 2,\n",
       "        0, 2, 2, 0, 2, 0, 1, 2, 1, 0, 0, 0, 2, 0, 0, 0, 1, 0, 2, 2, 1, 2,\n",
       "        1, 0, 1, 1, 2, 2, 0, 1, 1, 1, 0, 0, 2, 2, 1, 0, 0, 1, 0, 0, 2, 1,\n",
       "        0, 2, 2, 0, 2, 0, 1, 0, 0, 1, 1, 1, 0, 1, 0, 2, 1, 0, 1, 1, 0, 2,\n",
       "        1, 0, 2, 0, 0, 1, 2, 2, 2, 2, 0, 2, 0, 0, 0, 2, 2, 2, 2, 0, 0, 0,\n",
       "        2, 1, 2, 1, 2, 1, 2, 0, 0, 2, 1, 1, 2, 0, 2, 0, 0, 0, 2, 2, 2, 0,\n",
       "        1, 0, 0, 1, 0, 2, 0, 1, 2, 0, 0, 1, 1, 1, 1, 2, 0, 0, 2, 1, 0, 1,\n",
       "        0, 0, 1, 2, 2, 1, 2, 1, 1, 1, 2, 2, 2, 2, 1, 0, 1, 1, 1, 2, 0, 1,\n",
       "        0, 0, 2, 2, 2, 1, 0, 1, 2, 1, 1, 2, 2, 1, 1, 1, 1, 1, 1, 2, 0, 0,\n",
       "        1, 1, 2, 0, 0, 0, 2, 2, 1, 1, 1, 2, 2, 0, 0, 0, 2, 2, 0, 2, 2, 0,\n",
       "        2, 1, 2, 0, 1, 1, 0, 1, 0, 1, 1, 2, 1, 0, 0, 0, 0, 2, 2, 2, 2, 1,\n",
       "        2, 2, 2, 0, 1, 0, 2, 2, 1, 2, 0, 0, 1, 0, 2, 1, 1, 1, 1, 0, 1, 1,\n",
       "        2, 1, 0, 1, 1, 2, 0, 0, 1, 0, 0, 1, 1, 1, 1, 1, 1, 0, 0, 0, 0, 0,\n",
       "        2, 2, 2, 0, 2, 1, 0, 0, 0, 1, 2, 2, 0, 0, 1, 1, 1, 0, 1, 1, 1, 1,\n",
       "        0, 2, 2, 0, 2, 0, 1, 2, 0, 1, 0, 1, 2, 1, 2, 2, 0, 2, 2, 2, 0, 2,\n",
       "        2, 2, 2, 2, 0, 2, 2, 2, 0, 1, 0, 1, 0, 0, 0, 1, 1, 2, 1, 1, 1, 1,\n",
       "        1, 1, 1, 2, 1, 0, 1, 2, 0, 0, 2, 1, 0, 2, 0, 0, 1, 0, 0, 0, 0, 1,\n",
       "        0, 1, 2, 2, 0, 2, 1, 1, 2, 0, 1, 2, 2, 0, 0, 1]))"
      ]
     },
     "execution_count": 2,
     "metadata": {},
     "output_type": "execute_result"
    }
   ],
   "source": [
    "dataSet = make_classification(n_classes=3, n_features=4, n_clusters_per_class=1, n_samples=500, random_state=2018, n_redundant=1, shuffle=1)\n",
    "dataSet"
   ]
  },
  {
   "cell_type": "markdown",
   "metadata": {},
   "source": [
    "用PCA降到2维看看数据分布"
   ]
  },
  {
   "cell_type": "code",
   "execution_count": 3,
   "metadata": {},
   "outputs": [
    {
     "data": {
      "text/plain": [
       "array([[0, 1, 0],\n",
       "       [1, 0, 0],\n",
       "       [0, 0, 1],\n",
       "       ...,\n",
       "       [1, 0, 0],\n",
       "       [1, 0, 0],\n",
       "       [0, 1, 0]])"
      ]
     },
     "execution_count": 3,
     "metadata": {},
     "output_type": "execute_result"
    }
   ],
   "source": [
    "raw_y = LabelBinarizer().fit_transform(dataSet[1])\n",
    "raw_y"
   ]
  },
  {
   "cell_type": "code",
   "execution_count": 4,
   "metadata": {},
   "outputs": [],
   "source": [
    "train_x, test_x, train_y, test_y = train_test_split(dataSet[0], raw_y, test_size=0.1)"
   ]
  },
  {
   "cell_type": "markdown",
   "metadata": {},
   "source": [
    "## 搭建模型"
   ]
  },
  {
   "cell_type": "code",
   "execution_count": 5,
   "metadata": {},
   "outputs": [],
   "source": [
    "def add_layer(in_data, num_input, num_output, active_function=None):   #num_input:特征数, num_output:神经元数\n",
    "    weights = tf.Variable(tf.random_normal((num_input, num_output)))\n",
    "    bias = tf.Variable(tf.zeros((1, num_output)) + 0.5)\n",
    "    result = tf.matmul(in_data, weights) + bias\n",
    "    \n",
    "    if active_function == None:\n",
    "        return result\n",
    "    else:\n",
    "        return active_function(result)    #节点激活函数"
   ]
  },
  {
   "cell_type": "code",
   "execution_count": 32,
   "metadata": {
    "scrolled": true
   },
   "outputs": [
    {
     "name": "stdout",
     "output_type": "stream",
     "text": [
      "3.5109246\n",
      "0.5325399\n",
      "0.50614685\n",
      "0.47707272\n",
      "0.45550027\n",
      "0.44156525\n",
      "0.43020928\n",
      "0.410304\n",
      "0.40393928\n",
      "0.40154546\n",
      "0.39427185\n",
      "0.3972909\n",
      "0.39254764\n",
      "0.3892948\n",
      "0.3876309\n",
      "0.3872673\n",
      "0.38622028\n",
      "0.38633534\n",
      "0.38519585\n",
      "0.38407794\n",
      "0.38386706\n",
      "0.383933\n",
      "0.38452736\n",
      "0.3837793\n",
      "0.3838755\n",
      "0.38483652\n",
      "0.3847435\n",
      "0.3839039\n",
      "0.38347092\n",
      "0.384012\n",
      "0.38442838\n",
      "0.38385183\n",
      "0.3839556\n",
      "0.38438198\n",
      "0.3843172\n",
      "0.38328817\n",
      "0.38317826\n",
      "0.38401678\n",
      "0.3832422\n",
      "0.38317508\n",
      "0.38262028\n",
      "0.3838209\n",
      "0.3838678\n",
      "0.38288385\n",
      "0.38262948\n",
      "0.38255838\n",
      "0.38254544\n",
      "0.3838966\n",
      "0.38254762\n",
      "0.38385534\n",
      "0.38287503\n",
      "0.3820298\n",
      "0.38205245\n",
      "0.3826623\n",
      "0.3822726\n",
      "0.38237512\n",
      "0.38313547\n",
      "0.38228416\n",
      "0.38190702\n",
      "0.38278568\n"
     ]
    }
   ],
   "source": [
    "def train_model(num_neural=6):\n",
    "    num_feat = len(train_x[0])\n",
    "    num_class = len(set(dataSet[1]))\n",
    "    input_x = tf.placeholder(tf.float32, [None, num_feat])\n",
    "    input_y = tf.placeholder(tf.float32, [None, num_class])\n",
    "    lay_0 = add_layer(input_x, num_feat, num_neural)\n",
    "    lay_pred = add_layer(lay_0, num_neural, num_class, tf.nn.relu)\n",
    "\n",
    "    loss = tf.reduce_mean(tf.reduce_sum(abs(input_y - lay_pred), reduction_indices=1))\n",
    "    train_step = tf.train.GradientDescentOptimizer(0.08).minimize(loss)\n",
    "\n",
    "    with tf.Session() as sess:\n",
    "        sess.run(tf.initialize_all_variables())\n",
    "        for step in range(3000):\n",
    "            sess.run(train_step, feed_dict={input_x: train_x, input_y: train_y})\n",
    "            if step % 50 == 0:\n",
    "                print(sess.run(loss, feed_dict={input_x: train_x, input_y: train_y}))\n",
    "                \n",
    "train_model()"
   ]
  }
 ],
 "metadata": {
  "kernelspec": {
   "display_name": "Python 3",
   "language": "python",
   "name": "python3"
  },
  "language_info": {
   "codemirror_mode": {
    "name": "ipython",
    "version": 3
   },
   "file_extension": ".py",
   "mimetype": "text/x-python",
   "name": "python",
   "nbconvert_exporter": "python",
   "pygments_lexer": "ipython3",
   "version": "3.6.5"
  }
 },
 "nbformat": 4,
 "nbformat_minor": 2
}
