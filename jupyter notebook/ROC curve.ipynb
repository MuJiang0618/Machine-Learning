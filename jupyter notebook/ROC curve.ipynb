{
 "cells": [
  {
   "cell_type": "markdown",
   "metadata": {},
   "source": [
    "# 非平衡分类"
   ]
  },
  {
   "cell_type": "code",
   "execution_count": 1,
   "metadata": {},
   "outputs": [
    {
     "name": "stderr",
     "output_type": "stream",
     "text": [
      "D:\\study\\Anaconda\\lib\\site-packages\\sklearn\\cross_validation.py:41: DeprecationWarning: This module was deprecated in version 0.18 in favor of the model_selection module into which all the refactored classes and functions are moved. Also note that the interface of the new CV iterators are different from that of this module. This module will be removed in 0.20.\n",
      "  \"This module will be removed in 0.20.\", DeprecationWarning)\n"
     ]
    }
   ],
   "source": [
    "import numpy as np\n",
    "from sklearn.datasets import *\n",
    "from sklearn.cross_validation import train_test_split\n",
    "from sklearn.linear_model import LogisticRegression\n",
    "from sklearn.metrics import accuracy_score\n",
    "import matplotlib.pyplot as plt"
   ]
  },
  {
   "cell_type": "markdown",
   "metadata": {},
   "source": [
    "## 准备数据"
   ]
  },
  {
   "cell_type": "code",
   "execution_count": 2,
   "metadata": {
    "scrolled": true
   },
   "outputs": [],
   "source": [
    "dataSet = make_classification(n_classes=2, n_clusters_per_class=1, n_features=4, n_samples=1000, random_state=1, weights=[0.9, 0.1])\n",
    "X, Y = dataSet[0], dataSet[1]\n",
    "train_x, test_x, train_y, test_y = train_test_split(X, Y, test_size=0.1)"
   ]
  },
  {
   "cell_type": "markdown",
   "metadata": {},
   "source": [
    "## 构建模型"
   ]
  },
  {
   "cell_type": "code",
   "execution_count": 3,
   "metadata": {},
   "outputs": [
    {
     "name": "stderr",
     "output_type": "stream",
     "text": [
      "D:\\study\\Anaconda\\lib\\site-packages\\sklearn\\linear_model\\logistic.py:1228: UserWarning: 'n_jobs' > 1 does not have any effect when 'solver' is set to 'liblinear'. Got 'n_jobs' = 4.\n",
      "  \" = {}.\".format(self.n_jobs))\n"
     ]
    },
    {
     "data": {
      "text/plain": [
       "0.96"
      ]
     },
     "execution_count": 3,
     "metadata": {},
     "output_type": "execute_result"
    }
   ],
   "source": [
    "logis_model = LogisticRegression(n_jobs=4)\n",
    "logis_model.fit(train_x, train_y)\n",
    "y_pred = logis_model.predict(test_x)\n",
    "result = accuracy_score(y_pred, test_y)\n",
    "result"
   ]
  },
  {
   "cell_type": "markdown",
   "metadata": {},
   "source": [
    "logistic分类正确率达到95%并不能说明性能很好,因为反例数目太少,即使把反例分成正例,错误率也不会下降太多;此时要用到ROC,用AUG评判非平衡分类模型的性能"
   ]
  },
  {
   "cell_type": "markdown",
   "metadata": {},
   "source": [
    "## 绘制ROC"
   ]
  },
  {
   "cell_type": "markdown",
   "metadata": {},
   "source": [
    "ROC曲线的绘制方法：假设有P个正例，N个反例，首先拿到分类器对于测试集中每个样本预测为正例的概率，根据概率对所有样本进行逆序排列，然后将分类阈值设为最大，即把所有样本均预测为反例，此时图上的点为 (0,0)。然后将分类阈值依次设为每个样本的预测概率，即依次将每个样本划分为正例，如果该样本为真正例，则TP+1，即TPR + 1/P ; 如果该样本为负例，则FP+1，即FPR + 1/N。最后的到所有样本点的TPR和FPR值，用线段相连"
   ]
  },
  {
   "cell_type": "markdown",
   "metadata": {},
   "source": [
    "数目少的样本视为正例,根据逻辑斯蒂回归的特点,要得到预测概率,以类别1作为正例;\n",
    "sklearn中的logistic regression对每个样本的预测概率包含各个类别的概率"
   ]
  },
  {
   "cell_type": "code",
   "execution_count": 5,
   "metadata": {
    "scrolled": true
   },
   "outputs": [
    {
     "name": "stdout",
     "output_type": "stream",
     "text": [
      "AUC: 0.5579\n"
     ]
    },
    {
     "data": {
      "image/png": "[encoded data removed]",
      "text/plain": [
       "<Figure size 432x288 with 1 Axes>"
      ]
     },
     "metadata": {},
     "output_type": "display_data"
    }
   ],
   "source": [
    "def plot_ROC(classification_model):\n",
    "    probs = classification_model.predict_proba(test_x)[:, 1]   #得到每个样本预测为1的概率\n",
    "    probs = sorted(probs, reverse=True)\n",
    "    num_feat = len(train_x[0])\n",
    "    num_pos = sum(test_y)\n",
    "    num_neg = len(test_y) - num_pos\n",
    "    \n",
    "    FPR = [0] ; TPR = [0]\n",
    "    tpr = 0; AUC = 0\n",
    "    \n",
    "    for i in range(0, len(test_y)):\n",
    "        if classification_model.predict(test_x[i].reshape(-1, num_feat)) == 1:\n",
    "            TPR.append(TPR[-1] + 1 / num_pos)\n",
    "            FPR.append(FPR[-1])\n",
    "            tpr += 1 / num_pos\n",
    "        else:\n",
    "            FPR.append(FPR[-1] + 1 / num_neg)\n",
    "            TPR.append(TPR[-1])\n",
    "            AUC += tpr * 1 / num_neg\n",
    "        \n",
    "    plt.title(\"ROC Curve\")\n",
    "    plt.xlabel(\"FPR\")\n",
    "    plt.ylabel(\"TPR\")\n",
    "    plt.grid(color='r',linestyle='--')    #修改网格颜色，类型为虚\n",
    "    plt.plot(FPR, TPR)\n",
    "    \n",
    "    print('AUC: %0.4f' %AUC)\n",
    "    \n",
    "    return\n",
    "\n",
    "plot_ROC(logis_model)"
   ]
  },
  {
   "cell_type": "markdown",
   "metadata": {},
   "source": [
    "为什么到不了(1,1)?"
   ]
  },
  {
   "cell_type": "markdown",
   "metadata": {},
   "source": [
    "AUC = 0.5579,Logisti Regression对于非平衡二分类问题效果不理想,几乎是在蒙"
   ]
  }
 ],
 "metadata": {
  "kernelspec": {
   "display_name": "Python 3",
   "language": "python",
   "name": "python3"
  },
  "language_info": {
   "codemirror_mode": {
    "name": "ipython",
    "version": 3
   },
   "file_extension": ".py",
   "mimetype": "text/x-python",
   "name": "python",
   "nbconvert_exporter": "python",
   "pygments_lexer": "ipython3",
   "version": "3.6.5"
  }
 },
 "nbformat": 4,
 "nbformat_minor": 2
}
