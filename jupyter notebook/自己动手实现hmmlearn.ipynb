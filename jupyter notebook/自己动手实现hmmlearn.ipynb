{
 "cells": [
  {
   "cell_type": "markdown",
   "metadata": {},
   "source": [
    "# myhmmlearn\n",
    "刘建平Blog: https://www.cnblogs.com/pinard/p/6955871.html"
   ]
  },
  {
   "cell_type": "code",
   "execution_count": 47,
   "metadata": {},
   "outputs": [],
   "source": [
    "# -*- coding: utf-8 -*-\n",
    "# Created on Mon Sep 30 09:59:48 2019\n",
    "\n",
    "import numpy as np\n",
    "'''\n",
    "self.transmits = np.array([[0.5, 0.2, 0.3],\n",
    "                               [0.3, 0.5, 0.2],\n",
    "                               [0.2, 0.3, 0.5]])      # transmits[i][j]: 从状态i转移到j的概率\n",
    "        \n",
    "self.emits = np.array([ [0.5, 0.4, 0.7],\n",
    "                                [0.5, 0.6, 0.3] ])            # emits[i][j]: 观测i被隐状态j发射的概率\n",
    "        \n",
    "self.start_prob = np.array([0.2, 0.4, 0.4])\n",
    "'''\n",
    "class MultinomialHMM:\n",
    "    def __init__(self):\n",
    "        self.n_states = None\n",
    "        self.n_iter = None\n",
    "        self.tol = None\n",
    "    \n",
    "        self.transmits = np.array([[0.5, 0.2, 0.3],\n",
    "                               [0.3, 0.5, 0.2],\n",
    "                               [0.2, 0.3, 0.5]])      # transmits[i][j]: 从状态i转移到j的概率\n",
    "        \n",
    "        self.emits = np.array([ [0.5, 0.4, 0.7],\n",
    "                                [0.5, 0.6, 0.3] ])            # emits[i][j]: 观测i被隐状态j发射的概率\n",
    "        \n",
    "        self.start_prob = np.array([0.2, 0.4, 0.4]) \n",
    "    \n",
    "    # enable一次输入多个观测序列来学习\n",
    "    def fit(self, observations, n_iter = 5):     # 根据观测值用鲍姆韦尔奇算法学习模型参数, 转移发射起始\n",
    "        if not self.n_states:\n",
    "            raise Exception('请给出可能的隐状态数')\n",
    "            \n",
    "        self.n_observation = self.get_num_observation(observations)   # 获取不同观察值的数目\n",
    "        # 要有每一时间步的各个状态的前向, 后向概率, 分为前向概率数组和后向概率数组\n",
    "        for iter in range(0, n_iter):\n",
    "            forward_scores = self.decode(observations, True)   # 获取前向概率\n",
    "            backward_scores = self.get_backward_scores(observations)   # 获取后向概率\n",
    "            forward_mul_backward_scores = forward_scores * backward_scores   # 对应相乘\n",
    "            \n",
    "            self.start_prob = forward_mul_backward_scores[0] / np.sum(forward_mul_backward_scores[0])\n",
    "\n",
    "            # 学习转移矩阵, 由于考虑的是转移概率, 最后一个时间步不用再转移, 所以不考虑最后一个时间步\n",
    "            trans_fenmu = forward_mul_backward_scores[:-1] / np.sum(forward_mul_backward_scores[:-1], 1).reshape(-1, 1)\n",
    "            trans_fenmu = np.sum(trans_fenmu, 0)\n",
    "            for i in range(0, self.n_states):\n",
    "                temp = forward_scores[ :-1, i]   # Alpha\n",
    "                fenzi = np.matmul(temp.reshape(temp.shape[0], 1), self.transmits[i].reshape(1,-1))  # * Alpha(i,j)\n",
    "                fenzi *= self.emits[observations[1:]]   # * beta(Ot+1), 发射概率\n",
    "                fenzi *= backward_scores[1:]            # * Beta(t+1), 下一时间步的后向概率\n",
    "                fenzi = np.sum(fenzi, 0)\n",
    "\n",
    "                self.transmits[i] = fenzi / trans_fenmu[i]\n",
    "            print(self.transmits)\n",
    "#             print(forward_scores)\n",
    "\n",
    "            # 学习发射矩阵, 每一个时间步都要考虑发射概率\n",
    "            emit_fenmu = forward_mul_backward_scores / np.sum(forward_mul_backward_scores, 1).reshape(-1, 1)\n",
    "            emit_fenmu = np.sum(emit_fenmu, 0)\n",
    "            for i in range(0, self.n_observation):\n",
    "                temp = np.where(observations == i)         # Ot = Vk\n",
    "                temp = forward_mul_backward_scores[temp] / np.sum(temp, 1)\n",
    "                self.emits[i] = np.sum(temp, 0) / emit_fenmu[i]\n",
    "        \n",
    "#             print(self.transmits)\n",
    "        \n",
    "    def get_num_observation(self, observations):\n",
    "        return len(set(observations))\n",
    "        \n",
    "    def get_backward_scores(self, observations):\n",
    "        backward_scores = [[1] * self.n_states]   # 最后1个时间步的各隐状态后向概率初始化为1\n",
    "        \n",
    "        for i in range(1, len(observations)):\n",
    "            temp_score = []\n",
    "            for j in range(0, self.n_states):\n",
    "                temp_score.append(np.sum((np.array(backward_scores[-i]) * self.transmits[j] * self.emits[observations[-i]])))   \n",
    "            backward_scores.append(temp_score)\n",
    "            \n",
    "        backward_scores.reverse()\n",
    "        return np.array(backward_scores)\n",
    "    \n",
    "    def decode(self, observations, get_forward_scores = False):         # 根据观测得到最大概率隐状态序列及其分数\n",
    "        all_route = []\n",
    "        forward_scores = []      # 保存每一时间步的前向概率, 为学习模型提供前向概率\n",
    "        forward_score = self.start_prob * self.emits[observations[0]]\n",
    "        forward_scores.append(forward_score.tolist())\n",
    "        for t in range(1, len(observations)):\n",
    "            trans_score = forward_score * self.transmits.T\n",
    "            all_route.append(np.argmax(trans_score, 1))\n",
    "            forward_score = np.max(trans_score, 1) * self.emits[observations[t]]\n",
    "            forward_scores.append(forward_score.tolist())\n",
    "        \n",
    "        if get_forward_scores == True:\n",
    "            return np.array(forward_scores)       # 学习模型时调用decode()获取每一时间步的前向概率\n",
    "        \n",
    "        all_route.reverse()\n",
    "        next_route = np.argmax(forward_score)     # 最后1个隐状态\n",
    "        final_route = [next_route]                # 回溯路径\n",
    "        for route in all_route:\n",
    "            next_route = route[next_route]\n",
    "            final_route.append(next_route)\n",
    "        \n",
    "        final_route.reverse()\n",
    "        max_route_score = np.log(np.max(forward_score))\n",
    "        return final_route, max_route_score\n",
    "    \n",
    "    def score(self, observations):          # 模型学习完成, 对观察序列作出评分\n",
    "        forward_score = self.start_prob * self.emits[observations[0]]\n",
    "        for i in range(1, len(observations)):\n",
    "            forward_score = np.matmul(forward_score, self.transmits)   # 转移后的前向分数\n",
    "            forward_score *= self.emits[observations[i]]    # 转移后各状态发射出当前观测的前向分数\n",
    "        \n",
    "        return np.log(np.sum(forward_score))    # 返回的分数是loge(score)"
   ]
  },
  {
   "cell_type": "code",
   "execution_count": 57,
   "metadata": {},
   "outputs": [
    {
     "name": "stderr",
     "output_type": "stream",
     "text": [
      "         1          -2.7727             +nan\n",
      "         2          -2.6556          +0.1171\n",
      "         3          -2.4414          +0.2142\n",
      "         4          -1.8462          +0.5952\n",
      "         5          -0.7338          +1.1124\n",
      "         6          -0.0971          +0.6366\n",
      "         7          -0.0027          +0.0944\n",
      "         8          -0.0000          +0.0027\n"
     ]
    },
    {
     "data": {
      "text/plain": [
       "array([[1.90306598e-12, 1.00000000e+00, 1.55057596e-19],\n",
       "       [3.34367059e-01, 2.38286491e-44, 6.65632941e-01],\n",
       "       [5.67707496e-13, 1.00000000e+00, 1.29897287e-20]])"
      ]
     },
     "execution_count": 57,
     "metadata": {},
     "output_type": "execute_result"
    }
   ],
   "source": [
    "from hmmlearn import hmm\n",
    "model = hmm.MultinomialHMM(n_components=3, verbose=True)\n",
    "seen = np.array([[0,1,0,1]])\n",
    "model.fit(seen)\n",
    "model.transmat_"
   ]
  }
 ],
 "metadata": {
  "kernelspec": {
   "display_name": "Python 3",
   "language": "python",
   "name": "python3"
  },
  "language_info": {
   "codemirror_mode": {
    "name": "ipython",
    "version": 3
   },
   "file_extension": ".py",
   "mimetype": "text/x-python",
   "name": "python",
   "nbconvert_exporter": "python",
   "pygments_lexer": "ipython3",
   "version": "3.6.5"
  },
  "varInspector": {
   "cols": {
    "lenName": 16,
    "lenType": 16,
    "lenVar": 40
   },
   "kernels_config": {
    "python": {
     "delete_cmd_postfix": "",
     "delete_cmd_prefix": "del ",
     "library": "var_list.py",
     "varRefreshCmd": "print(var_dic_list())"
    },
    "r": {
     "delete_cmd_postfix": ") ",
     "delete_cmd_prefix": "rm(",
     "library": "var_list.r",
     "varRefreshCmd": "cat(var_dic_list()) "
    }
   },
   "types_to_exclude": [
    "module",
    "function",
    "builtin_function_or_method",
    "instance",
    "_Feature"
   ],
   "window_display": false
  }
 },
 "nbformat": 4,
 "nbformat_minor": 2
}
