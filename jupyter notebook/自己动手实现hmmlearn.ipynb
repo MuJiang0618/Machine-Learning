{
 "cells": [
  {
   "cell_type": "markdown",
   "metadata": {},
   "source": [
    "# myhmmlearn\n",
    "刘建平Blog: https://www.cnblogs.com/pinard/p/6955871.html"
   ]
  },
  {
   "cell_type": "code",
   "execution_count": 51,
   "metadata": {},
   "outputs": [],
   "source": [
    "# -*- coding: utf-8 -*-\n",
    "# Created on Mon Sep 30 09:59:48 2019\n",
    "\n",
    "import numpy as np\n",
    "\n",
    "class MultinomialHMM:\n",
    "    def __init__(self):\n",
    "        self.n_states = None\n",
    "        self.n_iter = None\n",
    "        self.tol = None\n",
    "    \n",
    "        self.transmits = np.array([[0.5, 0.2, 0.3],\n",
    "                               [0.3, 0.5, 0.2],\n",
    "                               [0.2, 0.3, 0.5]])      # transmits[i][j]: 从状态i转移到j的概率\n",
    "        \n",
    "        self.emits = np.array([ [0.5, 0.4, 0.7],\n",
    "                                [0.5, 0.6, 0.3] ])            # emits[i][j]: 观测i被隐状态j发射的概率\n",
    "        \n",
    "        self.start_prob = np.array([0.2, 0.4, 0.4]) \n",
    "    \n",
    "    def fit(self, observs):     # 根据观测值用鲍姆韦尔奇算法学习模型参数, 转移发射起始\n",
    "        pass\n",
    "    \n",
    "    def decode(self, observations):         # 根据观测得到最大概率隐状态序列及其分数\n",
    "        all_route = []\n",
    "        forward_score = self.start_prob * self.emits[observations[0]]\n",
    "        for t in range(1, len(observations)):\n",
    "            trans_score = forward_score * self.transmits.T\n",
    "            all_route.append(np.argmax(trans_score, 1))\n",
    "            forward_score = np.max(trans_score, 1) * self.emits[observations[t]]\n",
    "        \n",
    "        all_route.reverse()\n",
    "        next_route = np.argmax(forward_score)     # 最后1个隐状态\n",
    "        final_route = [next_route]                # 回溯路径\n",
    "        for route in all_route:\n",
    "            next_route = route[next_route]\n",
    "            final_route.append(next_route)\n",
    "        \n",
    "        final_route.reverse()\n",
    "        max_route_score = np.log(np.max(forward_score))\n",
    "        return final_route, max_route_score\n",
    "    \n",
    "    def score(self, observations):          # 模型学习完成, 对观察序列作出评分\n",
    "        forward_score = self.start_prob * self.emits[observations[0]]\n",
    "        for i in range(1, len(observations)):\n",
    "            forward_score = np.matmul(forward_score, self.transmits)   # 转移后的前向分数\n",
    "            forward_score *= self.emits[observations[i]]    # 转移后各状态发射出当前观测的前向分数\n",
    "        \n",
    "        return np.log(np.sum(forward_score))    # 返回的分数是loge(score)"
   ]
  },
  {
   "cell_type": "code",
   "execution_count": 54,
   "metadata": {},
   "outputs": [
    {
     "data": {
      "text/plain": [
       "[2, 1, 1]"
      ]
     },
     "execution_count": 54,
     "metadata": {},
     "output_type": "execute_result"
    }
   ],
   "source": [
    "hmm = MultinomialHMM()\n",
    "seen = np.array([0, 1, 1])\n",
    "score = hmm.score(seen)\n",
    "score      # 正确, 与刘建平博客实例结果一致\n",
    "hidden_states, score = hmm.decode(seen)\n",
    "hidden_states"
   ]
  }
 ],
 "metadata": {
  "kernelspec": {
   "display_name": "Python 3",
   "language": "python",
   "name": "python3"
  },
  "language_info": {
   "codemirror_mode": {
    "name": "ipython",
    "version": 3
   },
   "file_extension": ".py",
   "mimetype": "text/x-python",
   "name": "python",
   "nbconvert_exporter": "python",
   "pygments_lexer": "ipython3",
   "version": "3.6.5"
  },
  "varInspector": {
   "cols": {
    "lenName": 16,
    "lenType": 16,
    "lenVar": 40
   },
   "kernels_config": {
    "python": {
     "delete_cmd_postfix": "",
     "delete_cmd_prefix": "del ",
     "library": "var_list.py",
     "varRefreshCmd": "print(var_dic_list())"
    },
    "r": {
     "delete_cmd_postfix": ") ",
     "delete_cmd_prefix": "rm(",
     "library": "var_list.r",
     "varRefreshCmd": "cat(var_dic_list()) "
    }
   },
   "types_to_exclude": [
    "module",
    "function",
    "builtin_function_or_method",
    "instance",
    "_Feature"
   ],
   "window_display": false
  }
 },
 "nbformat": 4,
 "nbformat_minor": 2
}
