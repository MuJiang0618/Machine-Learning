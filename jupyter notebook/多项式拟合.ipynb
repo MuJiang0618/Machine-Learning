{
 "cells": [
  {
   "cell_type": "markdown",
   "metadata": {},
   "source": [
    "# 线性回归"
   ]
  },
  {
   "cell_type": "markdown",
   "metadata": {},
   "source": [
    "注意:矩阵无法进行索引,如下例"
   ]
  },
  {
   "cell_type": "code",
   "execution_count": 134,
   "metadata": {},
   "outputs": [
    {
     "data": {
      "text/plain": [
       "matrix([[2, 4]])"
      ]
     },
     "execution_count": 134,
     "metadata": {},
     "output_type": "execute_result"
    }
   ],
   "source": [
    "a = np.mat([ [2,4], [1,5]])\n",
    "a[0][0][0]"
   ]
  },
  {
   "cell_type": "code",
   "execution_count": 107,
   "metadata": {},
   "outputs": [],
   "source": [
    "import numpy as np\n",
    "import matplotlib.pyplot as plt\n",
    "from pyecharts import *"
   ]
  },
  {
   "cell_type": "code",
   "execution_count": 108,
   "metadata": {
    "code_folding": []
   },
   "outputs": [],
   "source": [
    "def loadDataSet():\n",
    "    dataSet = np.array([ [1, 1, 2],\n",
    "                      [2, 1, 3],\n",
    "                      [4, 1, 6],\n",
    "                      [7, 1, 9],\n",
    "                       [6, 1, 8]])\n",
    "    \n",
    "    return dataSet"
   ]
  },
  {
   "cell_type": "code",
   "execution_count": 109,
   "metadata": {},
   "outputs": [
    {
     "data": {
      "image/png": "[encoded data removed]",
      "text/plain": [
       "<Figure size 432x288 with 1 Axes>"
      ]
     },
     "metadata": {},
     "output_type": "display_data"
    }
   ],
   "source": [
    "dataSet = loadDataSet()\n",
    "plt.scatter(dataSet[:, 0], dataSet[:, 2])\n",
    "plt.show()"
   ]
  },
  {
   "cell_type": "markdown",
   "metadata": {},
   "source": [
    "## 解析解"
   ]
  },
  {
   "cell_type": "code",
   "execution_count": 110,
   "metadata": {},
   "outputs": [],
   "source": [
    "def toFit(dataSet):  #尝试解析解/梯度下降法\n",
    "    #直线拟合\n",
    "    m, n = dataSet.shape\n",
    "    X = np.mat(dataSet[:, :2]) ; Y = np.mat(dataSet[:, 2].reshape(m, 1))\n",
    "    \n",
    "    return (X.T * X).I * X.T * Y"
   ]
  },
  {
   "cell_type": "markdown",
   "metadata": {},
   "source": [
    "解析解得到的结果是 [1.1923, 0.83]"
   ]
  },
  {
   "cell_type": "markdown",
   "metadata": {},
   "source": [
    "## 梯度下降法"
   ]
  },
  {
   "cell_type": "code",
   "execution_count": 114,
   "metadata": {},
   "outputs": [],
   "source": [
    "def toFitWithSGD(dataSet, steps, alpha=0.013):\n",
    "    m, n = dataSet.shape\n",
    "    X = np.mat(dataSet[:, :2]) ; Y = np.mat(dataSet[:, 2].reshape((m, 1)))\n",
    "    weight = np.mat(np.ones((1, 2)))\n",
    "\n",
    "    for i in range(0, steps):\n",
    "        weight += alpha * (np.multiply((Y - X * weight.T), X)).sum(axis = 0)\n",
    "    print(weight)\n",
    "    \n",
    "    return np.array(weight)   #因为矩阵无法进行索引,所以这里要array化矩阵"
   ]
  },
  {
   "cell_type": "markdown",
   "metadata": {},
   "source": [
    "使用梯度下降法时,当alpha > 0.01时,weight的值巨大,原因或许是该损失函数的二阶导数为正,步长太大导致跳过了谷底并来回振荡"
   ]
  },
  {
   "cell_type": "code",
   "execution_count": 121,
   "metadata": {},
   "outputs": [],
   "source": [
    "def plot(weight):\n",
    "    x_cord = []; y_cord = []\n",
    "    for i in range(1, 8):\n",
    "        x_cord.append(i)\n",
    "        y_cord.append(weight[0][0] * i + weight[0][1])\n",
    "        \n",
    "    plt.scatter(dataSet[:, 0], dataSet[:, 2])\n",
    "    plt.plot(x_cord, y_cord)\n",
    "    plt.show()"
   ]
  },
  {
   "cell_type": "code",
   "execution_count": 122,
   "metadata": {},
   "outputs": [
    {
     "name": "stdout",
     "output_type": "stream",
     "text": [
      "[[1.19060284 0.83970401]]\n"
     ]
    },
    {
     "data": {
      "image/png": "[encoded data removed]",
      "text/plain": [
       "<Figure size 432x288 with 1 Axes>"
      ]
     },
     "metadata": {},
     "output_type": "display_data"
    }
   ],
   "source": [
    "def main():\n",
    "    dataSet = loadDataSet()\n",
    "    weight = toFitWithSGD(dataSet, 200, 0.013)\n",
    "    plot(weight)\n",
    "    \n",
    "    return\n",
    "\n",
    "main()"
   ]
  }
 ],
 "metadata": {
  "kernelspec": {
   "display_name": "Python 3",
   "language": "python",
   "name": "python3"
  },
  "language_info": {
   "codemirror_mode": {
    "name": "ipython",
    "version": 3
   },
   "file_extension": ".py",
   "mimetype": "text/x-python",
   "name": "python",
   "nbconvert_exporter": "python",
   "pygments_lexer": "ipython3",
   "version": "3.6.5"
  }
 },
 "nbformat": 4,
 "nbformat_minor": 2
}
