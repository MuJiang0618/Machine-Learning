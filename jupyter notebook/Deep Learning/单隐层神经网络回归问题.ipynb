{
 "cells": [
  {
   "cell_type": "markdown",
   "metadata": {},
   "source": [
    "# 单隐层神经网络回归问题"
   ]
  },
  {
   "cell_type": "code",
   "execution_count": 1,
   "metadata": {},
   "outputs": [
    {
     "name": "stderr",
     "output_type": "stream",
     "text": [
      "D:\\study\\Anaconda\\lib\\site-packages\\h5py\\__init__.py:36: FutureWarning: Conversion of the second argument of issubdtype from `float` to `np.floating` is deprecated. In future, it will be treated as `np.float64 == np.dtype(float).type`.\n",
      "  from ._conv import register_converters as _register_converters\n"
     ]
    }
   ],
   "source": [
    "%matplotlib qt5\n",
    "import tensorflow as tf\n",
    "import numpy as np\n",
    "import matplotlib.pyplot as plt"
   ]
  },
  {
   "cell_type": "code",
   "execution_count": 2,
   "metadata": {},
   "outputs": [],
   "source": [
    "def add_layer(in_data, num_input, num_output, active_function=tf.nn.relu):\n",
    "    weights = tf.Variable(tf.random_normal((num_input, num_output)))\n",
    "    bias = tf.Variable(tf.zeros((1, num_output)) + 0.5)\n",
    "    result = tf.matmul(in_data, weights) + bias\n",
    "    \n",
    "    if active_function == None:\n",
    "        return result\n",
    "    else:\n",
    "        return active_function(result)    #节点激活函数"
   ]
  },
  {
   "cell_type": "code",
   "execution_count": 3,
   "metadata": {},
   "outputs": [],
   "source": [
    "x_data = np.linspace(-1, 1, 300)[:, np.newaxis]\n",
    "noise = np.random.normal(0, 0.05, x_data.shape)\n",
    "y_data = np.square(x_data) + noise - 0.5\n",
    "\n",
    "xs = tf.placeholder(tf.float32, [None, 1])     #设置成占位符有利于调整训练数据的规模,方便mini batch\n",
    "ys = tf.placeholder(tf.float32, [None, 1])\n",
    "\n",
    "layer_1 = add_layer(xs, 1, 10, active_function=tf.nn.relu)\n",
    "prediction = add_layer(layer_1, 10, 1, None)\n",
    "\n",
    "loss = tf.reduce_mean(tf.reduce_sum(tf.square(ys - prediction), reduction_indices=[1]))\n",
    "train_step = tf.train.GradientDescentOptimizer(0.1).minimize(loss)"
   ]
  },
  {
   "cell_type": "code",
   "execution_count": 4,
   "metadata": {
    "scrolled": true
   },
   "outputs": [],
   "source": [
    "with tf.Session() as sess:\n",
    "    sess.run(tf.global_variables_initializer())\n",
    "\n",
    "    fig = plt.figure()\n",
    "    ax = fig.add_subplot(1, 1, 1)\n",
    "    plt.ion()\n",
    "    ax.scatter(x_data, y_data)\n",
    "    \n",
    "    for i in range(2000):\n",
    "        sess.run(train_step, feed_dict={xs: x_data, ys: y_data})\n",
    "        if i % 20 == 0:\n",
    "#           print(sess.run(loss, feed_dict={xs: x_data, ys: y_data}))         \n",
    "            try:\n",
    "                ax.lines.remove(lines[0])\n",
    "            except Exception:\n",
    "                pass\n",
    "             \n",
    "            prediction_value = sess.run(prediction, feed_dict={xs: x_data})\n",
    "            lines = ax.plot(x_data, prediction_value, 'r-', lw=5)\n",
    "            plt.pause(0.5)"
   ]
  },
  {
   "cell_type": "markdown",
   "metadata": {},
   "source": [
    "连续画出不断接近真实二次函数的连续折线"
   ]
  }
 ],
 "metadata": {
  "kernelspec": {
   "display_name": "Python 3",
   "language": "python",
   "name": "python3"
  },
  "language_info": {
   "codemirror_mode": {
    "name": "ipython",
    "version": 3
   },
   "file_extension": ".py",
   "mimetype": "text/x-python",
   "name": "python",
   "nbconvert_exporter": "python",
   "pygments_lexer": "ipython3",
   "version": "3.6.5"
  }
 },
 "nbformat": 4,
 "nbformat_minor": 2
}
