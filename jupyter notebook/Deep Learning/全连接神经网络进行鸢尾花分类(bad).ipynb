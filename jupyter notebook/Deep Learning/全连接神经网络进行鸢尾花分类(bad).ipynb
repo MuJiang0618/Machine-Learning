{
 "cells": [
  {
   "cell_type": "markdown",
   "metadata": {},
   "source": [
    "# 全连接神经网络进行鸢尾花分类"
   ]
  },
  {
   "cell_type": "markdown",
   "metadata": {},
   "source": [
    "问题0:类别标签为onehot编码的分类问题,如何选择损失函数?  answer:categorical_crossentropy"
   ]
  },
  {
   "cell_type": "markdown",
   "metadata": {},
   "source": [
    "问题1:分类问题中如何让输出层神经元输出整数?  answer:没有必要让它输出整数,只要输出分数,按照分数高低分类"
   ]
  },
  {
   "cell_type": "markdown",
   "metadata": {},
   "source": [
    "## 准备数据"
   ]
  },
  {
   "cell_type": "code",
   "execution_count": 1,
   "metadata": {},
   "outputs": [
    {
     "name": "stderr",
     "output_type": "stream",
     "text": [
      "D:\\study\\Anaconda\\lib\\site-packages\\h5py\\__init__.py:36: FutureWarning: Conversion of the second argument of issubdtype from `float` to `np.floating` is deprecated. In future, it will be treated as `np.float64 == np.dtype(float).type`.\n",
      "  from ._conv import register_converters as _register_converters\n",
      "D:\\study\\Anaconda\\lib\\site-packages\\sklearn\\cross_validation.py:41: DeprecationWarning: This module was deprecated in version 0.18 in favor of the model_selection module into which all the refactored classes and functions are moved. Also note that the interface of the new CV iterators are different from that of this module. This module will be removed in 0.20.\n",
      "  \"This module will be removed in 0.20.\", DeprecationWarning)\n"
     ]
    }
   ],
   "source": [
    "import numpy as np\n",
    "import tensorflow as tf\n",
    "from sklearn.datasets import *\n",
    "from sklearn.preprocessing import LabelBinarizer\n",
    "from sklearn.cross_validation import train_test_split\n",
    "import tensorflow as tf"
   ]
  },
  {
   "cell_type": "code",
   "execution_count": 2,
   "metadata": {
    "scrolled": true
   },
   "outputs": [
    {
     "data": {
      "text/plain": [
       "(array([[-0.9786559 , -1.93511269,  1.67048429, -1.35191153],\n",
       "        [-0.68309351, -1.21060004,  1.26434357, -0.27003405],\n",
       "        [-1.23531632, -2.31352805,  2.19921277, -0.98677152],\n",
       "        ...,\n",
       "        [ 0.1837119 , -1.60095609, -1.6926683 , -0.82385412],\n",
       "        [ 0.02756183,  1.12525576,  0.70474037,  0.03069563],\n",
       "        [ 0.30295649, -1.85502026, -2.24013493,  0.50985887]]),\n",
       " array([0, 0, 0, ..., 1, 2, 1]))"
      ]
     },
     "execution_count": 2,
     "metadata": {},
     "output_type": "execute_result"
    }
   ],
   "source": [
    "dataSet = make_classification(n_classes=3, n_features=4, n_clusters_per_class=1, n_samples=1500, random_state=2018, n_redundant=1, shuffle=1)\n",
    "dataSet"
   ]
  },
  {
   "cell_type": "code",
   "execution_count": 3,
   "metadata": {},
   "outputs": [
    {
     "data": {
      "text/plain": [
       "array([[1, 0, 0],\n",
       "       [1, 0, 0],\n",
       "       [1, 0, 0],\n",
       "       ...,\n",
       "       [0, 1, 0],\n",
       "       [0, 0, 1],\n",
       "       [0, 1, 0]])"
      ]
     },
     "execution_count": 3,
     "metadata": {},
     "output_type": "execute_result"
    }
   ],
   "source": [
    "raw_y = LabelBinarizer().fit_transform(dataSet[1])\n",
    "raw_y"
   ]
  },
  {
   "cell_type": "code",
   "execution_count": 4,
   "metadata": {},
   "outputs": [],
   "source": [
    "train_x, test_x, train_y, test_y = train_test_split(dataSet[0], raw_y, test_size=0.1)"
   ]
  },
  {
   "cell_type": "markdown",
   "metadata": {},
   "source": [
    "## 搭建模型"
   ]
  },
  {
   "cell_type": "code",
   "execution_count": 5,
   "metadata": {},
   "outputs": [],
   "source": [
    "def add_layer(in_data, num_input, num_output, active_function=None):   #num_input:特征数, num_output:神经元数\n",
    "    weights = tf.Variable(tf.random_normal((num_input, num_output)))\n",
    "    bias = tf.Variable(tf.zeros((1, num_output)) + 0.5)\n",
    "    result = tf.matmul(in_data, weights) + bias\n",
    "    \n",
    "    if active_function == None:\n",
    "        return result\n",
    "    else:\n",
    "        return active_function(result)    #节点激活函数"
   ]
  },
  {
   "cell_type": "code",
   "execution_count": 6,
   "metadata": {
    "scrolled": true
   },
   "outputs": [
    {
     "name": "stdout",
     "output_type": "stream",
     "text": [
      "WARNING:tensorflow:From D:\\study\\Anaconda\\lib\\site-packages\\tensorflow\\python\\util\\tf_should_use.py:118: initialize_all_variables (from tensorflow.python.ops.variables) is deprecated and will be removed after 2017-03-02.\n",
      "Instructions for updating:\n",
      "Use `tf.global_variables_initializer` instead.\n",
      "7.937688\n",
      "0.6709931\n",
      "0.69711745\n",
      "0.78699887\n",
      "0.7461545\n",
      "0.7217724\n",
      "0.6158357\n",
      "0.694033\n",
      "0.62451494\n",
      "0.6431552\n",
      "0.67680174\n",
      "0.5761509\n",
      "0.63833725\n",
      "0.60504967\n",
      "0.60345954\n",
      "0.5939377\n",
      "0.5805626\n",
      "0.5745242\n",
      "0.57261133\n",
      "0.5769394\n",
      "0.56574744\n",
      "0.56933904\n",
      "0.5663217\n",
      "0.56627154\n",
      "0.5608067\n",
      "0.5625608\n",
      "0.5613058\n",
      "0.5587144\n",
      "0.5595982\n",
      "0.55707026\n",
      "0.5614451\n",
      "0.555825\n",
      "0.5584746\n",
      "0.5531561\n",
      "0.5572551\n",
      "0.5537254\n",
      "0.5543703\n",
      "0.5562194\n",
      "0.553576\n",
      "0.55433667\n",
      "0.5555692\n",
      "0.5541137\n",
      "0.5539286\n",
      "0.55383307\n",
      "0.55273736\n",
      "0.5537486\n",
      "0.55238324\n",
      "0.55235636\n",
      "0.55332756\n",
      "0.5518653\n",
      "0.5527163\n",
      "0.55308354\n",
      "0.55359226\n",
      "0.55128163\n",
      "0.55169773\n",
      "0.55325174\n",
      "0.5520792\n",
      "0.55154485\n",
      "0.5514998\n",
      "0.5536942\n",
      "0.5517281\n",
      "[[0.         0.9840207  0.        ]\n",
      " [0.         0.2161853  0.        ]\n",
      " [0.68059045 0.         0.        ]\n",
      " [0.         0.29299822 0.        ]\n",
      " [0.         0.         0.8399723 ]\n",
      " [0.         0.         0.4304938 ]\n",
      " [0.         0.         0.94145435]\n",
      " [0.47530484 0.         0.        ]\n",
      " [0.         0.83372855 0.        ]\n",
      " [0.12731606 0.         0.03999043]\n",
      " [0.         0.44732243 0.        ]\n",
      " [0.32921234 0.         0.36760956]\n",
      " [0.81193966 0.         0.06053787]\n",
      " [0.         0.         1.1337125 ]\n",
      " [0.03943234 0.1827546  0.        ]\n",
      " [0.         1.1041716  0.        ]\n",
      " [0.         0.         0.6627594 ]\n",
      " [0.         0.35344335 0.        ]\n",
      " [0.         0.         1.1325021 ]\n",
      " [0.6847813  0.         0.        ]\n",
      " [0.         0.         1.627313  ]\n",
      " [0.         0.99528    0.        ]\n",
      " [0.         0.         0.78296363]\n",
      " [0.         0.         0.76503634]\n",
      " [1.0659536  0.         0.        ]\n",
      " [0.5519359  0.03810632 0.        ]\n",
      " [0.         0.         1.388629  ]\n",
      " [0.         0.4858914  0.        ]\n",
      " [0.         0.65378845 0.        ]\n",
      " [1.9209344  0.         0.        ]\n",
      " [0.07220643 0.         0.552197  ]\n",
      " [0.00393496 0.129928   0.        ]\n",
      " [0.40144464 0.         0.        ]\n",
      " [1.7183775  0.         0.        ]\n",
      " [0.092194   0.         0.5606484 ]\n",
      " [0.03029383 0.         0.6390672 ]\n",
      " [0.         0.12736583 0.        ]\n",
      " [0.         0.         0.54804146]\n",
      " [0.         0.7412249  0.        ]\n",
      " [0.9542361  0.         0.        ]\n",
      " [0.         0.29662305 0.        ]\n",
      " [0.21200773 0.17119285 0.        ]\n",
      " [0.         0.8098295  0.        ]\n",
      " [0.         0.4542475  0.        ]\n",
      " [0.         0.         0.95987517]\n",
      " [0.         0.         0.9877379 ]\n",
      " [0.         0.28498846 0.        ]\n",
      " [0.         0.7884196  0.        ]\n",
      " [0.3038851  0.         0.4055465 ]\n",
      " [0.04850906 0.         0.41527224]\n",
      " [0.         0.         0.56970197]\n",
      " [0.         0.         0.68651193]\n",
      " [0.16573592 0.         0.52996516]\n",
      " [0.10073845 0.         0.05128139]\n",
      " [0.10262553 0.         0.52474165]\n",
      " [0.65321946 0.02476984 0.        ]\n",
      " [0.18085939 0.1541639  0.        ]\n",
      " [0.762059   0.         0.        ]\n",
      " [0.         0.6326287  0.        ]\n",
      " [0.         0.         0.8578703 ]\n",
      " [0.11510096 0.         0.5526037 ]\n",
      " [0.         0.         1.1936367 ]\n",
      " [0.01872843 0.24121156 0.        ]\n",
      " [0.         1.2149011  0.        ]\n",
      " [0.         0.846223   0.        ]\n",
      " [0.         0.60764766 0.        ]\n",
      " [0.         0.         0.5314583 ]\n",
      " [0.         0.         0.63918066]\n",
      " [0.         0.20480838 0.        ]\n",
      " [0.         0.6176857  0.        ]\n",
      " [0.         0.         0.6510906 ]\n",
      " [0.         0.         1.4154677 ]\n",
      " [0.         0.55386424 0.        ]\n",
      " [0.79393846 0.         0.        ]\n",
      " [0.         0.         0.72581065]\n",
      " [0.         0.13382185 0.        ]\n",
      " [0.         1.2723757  0.        ]\n",
      " [0.13020281 0.         0.50568867]\n",
      " [0.         0.65752584 0.        ]\n",
      " [0.         0.15758836 0.        ]\n",
      " [0.018516   0.15026444 0.        ]\n",
      " [0.4892427  0.15451217 0.        ]\n",
      " [0.         0.1603859  0.        ]\n",
      " [1.8384805  0.         0.        ]\n",
      " [0.         0.         0.7456012 ]\n",
      " [0.         0.6688889  0.        ]\n",
      " [0.51708007 0.         0.        ]\n",
      " [1.2167248  0.         0.        ]\n",
      " [0.016024   0.         0.7338764 ]\n",
      " [0.23865257 0.         0.44352722]\n",
      " [0.91057587 0.0941574  0.        ]\n",
      " [0.         0.20381737 0.        ]\n",
      " [0.         0.07744169 0.        ]\n",
      " [0.         0.         0.8255049 ]\n",
      " [0.9164293  0.         0.        ]\n",
      " [0.         0.         1.3653097 ]\n",
      " [0.11783244 0.         0.4813334 ]\n",
      " [0.         0.         1.1111054 ]\n",
      " [0.         0.         0.71614695]\n",
      " [0.         1.2118868  0.        ]\n",
      " [0.19471961 0.         0.3785082 ]\n",
      " [0.99535    0.         0.        ]\n",
      " [0.         0.8167833  0.        ]\n",
      " [0.         0.         1.0765202 ]\n",
      " [0.         0.         0.59405625]\n",
      " [0.         0.         0.81946874]\n",
      " [0.20364204 0.         0.28556836]\n",
      " [0.17366531 0.         0.48351157]\n",
      " [0.01713163 0.21855263 0.        ]\n",
      " [0.         0.44373673 0.        ]\n",
      " [0.06292894 0.         0.68806046]\n",
      " [0.         0.39090475 0.        ]\n",
      " [0.         0.         1.2619622 ]\n",
      " [0.         1.052268   0.        ]\n",
      " [0.         0.6807852  0.        ]\n",
      " [0.25583524 0.09112793 0.        ]\n",
      " [0.         0.         0.76716423]\n",
      " [0.         0.8062922  0.        ]\n",
      " [0.15399626 0.06434256 0.        ]\n",
      " [1.450937   0.         0.        ]\n",
      " [0.22847302 0.03335667 0.        ]\n",
      " [0.         1.7970997  0.        ]\n",
      " [0.35235667 0.05565858 0.        ]\n",
      " [0.         0.08759996 0.        ]\n",
      " [0.         0.         1.0419719 ]\n",
      " [0.6677833  0.         0.        ]\n",
      " [1.3436085  0.         0.        ]\n",
      " [0.         1.0644454  0.        ]\n",
      " [0.         0.23142654 0.        ]\n",
      " [0.07869105 0.         0.51204735]\n",
      " [0.1616182  0.         0.03388789]\n",
      " [0.         0.12762897 0.09905052]\n",
      " [0.         0.         1.0521374 ]\n",
      " [0.         0.         0.86673445]\n",
      " [0.         0.         1.0395784 ]\n",
      " [0.630066   0.         0.        ]\n",
      " [0.8656607  0.         0.        ]\n",
      " [0.00867219 0.         0.27185273]\n",
      " [0.00484483 0.         0.6397233 ]\n",
      " [0.         0.         0.77952135]\n",
      " [0.28424954 0.         0.21123838]\n",
      " [0.03681416 0.04765818 0.        ]\n",
      " [0.47625998 0.         0.14525598]\n",
      " [0.         0.         0.9622563 ]\n",
      " [0.9702182  0.         0.        ]\n",
      " [0.         0.14815854 0.        ]\n",
      " [0.         0.         0.9733492 ]\n",
      " [0.         0.         1.1268733 ]\n",
      " [0.7342496  0.         0.        ]\n",
      " [0.         0.02659094 0.00293189]]\n"
     ]
    }
   ],
   "source": [
    "def train_model(num_neural=6):\n",
    "    num_feat = len(train_x[0])\n",
    "    num_class = len(set(dataSet[1]))\n",
    "    \n",
    "    input_x = tf.placeholder(tf.float32, [None, num_feat])\n",
    "    input_y = tf.placeholder(tf.float32, [None, num_class])\n",
    "    \n",
    "    lay_0 = add_layer(input_x, num_feat, num_neural)\n",
    "    lay_pred = add_layer(lay_0, num_neural, num_class, tf.nn.relu)\n",
    "\n",
    "    loss = tf.reduce_mean(tf.reduce_sum(abs(input_y - lay_pred), reduction_indices=1))\n",
    "    train_step = tf.train.GradientDescentOptimizer(0.08).minimize(loss)\n",
    "\n",
    "    with tf.Session() as sess:\n",
    "        sess.run(tf.initialize_all_variables())\n",
    "        for step in range(3001):\n",
    "            sess.run(train_step, feed_dict={input_x: train_x, input_y: train_y})\n",
    "            if step % 50 == 0:\n",
    "                print(sess.run(loss, feed_dict={input_x: train_x, input_y: train_y}))\n",
    "                \n",
    "        print(sess.run(lay_pred, feed_dict={input_x: test_x}))\n",
    "                \n",
    "train_model()"
   ]
  },
  {
   "cell_type": "markdown",
   "metadata": {},
   "source": [
    "输出层神经元应该输出整数的"
   ]
  }
 ],
 "metadata": {
  "kernelspec": {
   "display_name": "Python 3",
   "language": "python",
   "name": "python3"
  },
  "language_info": {
   "codemirror_mode": {
    "name": "ipython",
    "version": 3
   },
   "file_extension": ".py",
   "mimetype": "text/x-python",
   "name": "python",
   "nbconvert_exporter": "python",
   "pygments_lexer": "ipython3",
   "version": "3.6.5"
  }
 },
 "nbformat": 4,
 "nbformat_minor": 2
}
