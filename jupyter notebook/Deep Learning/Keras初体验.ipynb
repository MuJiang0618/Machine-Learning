{
 "cells": [
  {
   "cell_type": "markdown",
   "metadata": {},
   "source": [
    "# Keras用起来真是舒服"
   ]
  },
  {
   "cell_type": "code",
   "execution_count": 7,
   "metadata": {},
   "outputs": [],
   "source": [
    "from keras.models import Sequential\n",
    "from keras.layers import Dense, Dropout, BatchNormalization\n",
    "import numpy as np\n",
    "from sklearn.datasets import make_classification\n",
    "from keras.utils import np_utils"
   ]
  },
  {
   "cell_type": "code",
   "execution_count": 2,
   "metadata": {},
   "outputs": [],
   "source": [
    "dataSet = make_classification(n_classes=2, n_features=4, n_clusters_per_class=1, n_samples=400, n_redundant=0)"
   ]
  },
  {
   "cell_type": "code",
   "execution_count": 10,
   "metadata": {
    "scrolled": true
   },
   "outputs": [
    {
     "name": "stdout",
     "output_type": "stream",
     "text": [
      "Epoch 1/68\n",
      "400/400 [==============================] - 0s 1ms/step - loss: 0.6586 - acc: 0.5450\n",
      "Epoch 2/68\n",
      "400/400 [==============================] - 0s 35us/step - loss: 0.6450 - acc: 0.6850\n",
      "Epoch 3/68\n",
      "400/400 [==============================] - 0s 40us/step - loss: 0.6302 - acc: 0.7400\n",
      "Epoch 4/68\n",
      "400/400 [==============================] - 0s 40us/step - loss: 0.6141 - acc: 0.7625\n",
      "Epoch 5/68\n",
      "400/400 [==============================] - 0s 45us/step - loss: 0.5970 - acc: 0.7850\n",
      "Epoch 6/68\n",
      "400/400 [==============================] - 0s 47us/step - loss: 0.5796 - acc: 0.8200\n",
      "Epoch 7/68\n",
      "400/400 [==============================] - 0s 42us/step - loss: 0.5615 - acc: 0.8250\n",
      "Epoch 8/68\n",
      "400/400 [==============================] - 0s 42us/step - loss: 0.5422 - acc: 0.8375\n",
      "Epoch 9/68\n",
      "400/400 [==============================] - 0s 45us/step - loss: 0.5217 - acc: 0.8625\n",
      "Epoch 10/68\n",
      "400/400 [==============================] - 0s 45us/step - loss: 0.5005 - acc: 0.8750\n",
      "Epoch 11/68\n",
      "400/400 [==============================] - 0s 50us/step - loss: 0.4784 - acc: 0.8825\n",
      "Epoch 12/68\n",
      "400/400 [==============================] - 0s 45us/step - loss: 0.4548 - acc: 0.8925\n",
      "Epoch 13/68\n",
      "400/400 [==============================] - 0s 50us/step - loss: 0.4284 - acc: 0.9050\n",
      "Epoch 14/68\n",
      "400/400 [==============================] - 0s 47us/step - loss: 0.4006 - acc: 0.9125\n",
      "Epoch 15/68\n",
      "400/400 [==============================] - 0s 42us/step - loss: 0.3721 - acc: 0.9200\n",
      "Epoch 16/68\n",
      "400/400 [==============================] - 0s 45us/step - loss: 0.3412 - acc: 0.9250\n",
      "Epoch 17/68\n",
      "400/400 [==============================] - 0s 47us/step - loss: 0.3091 - acc: 0.9275\n",
      "Epoch 18/68\n",
      "400/400 [==============================] - 0s 45us/step - loss: 0.2784 - acc: 0.9325\n",
      "Epoch 19/68\n",
      "400/400 [==============================] - 0s 42us/step - loss: 0.2497 - acc: 0.9350\n",
      "Epoch 20/68\n",
      "400/400 [==============================] - 0s 42us/step - loss: 0.2269 - acc: 0.9375\n",
      "Epoch 21/68\n",
      "400/400 [==============================] - 0s 45us/step - loss: 0.2085 - acc: 0.9350\n",
      "Epoch 22/68\n",
      "400/400 [==============================] - 0s 47us/step - loss: 0.1940 - acc: 0.9350\n",
      "Epoch 23/68\n",
      "400/400 [==============================] - 0s 45us/step - loss: 0.1840 - acc: 0.9350\n",
      "Epoch 24/68\n",
      "400/400 [==============================] - 0s 47us/step - loss: 0.1757 - acc: 0.9325\n",
      "Epoch 25/68\n",
      "400/400 [==============================] - 0s 47us/step - loss: 0.1691 - acc: 0.9375\n",
      "Epoch 26/68\n",
      "400/400 [==============================] - 0s 45us/step - loss: 0.1638 - acc: 0.9375\n",
      "Epoch 27/68\n",
      "400/400 [==============================] - 0s 45us/step - loss: 0.1585 - acc: 0.9425\n",
      "Epoch 28/68\n",
      "400/400 [==============================] - 0s 45us/step - loss: 0.1549 - acc: 0.9425\n",
      "Epoch 29/68\n",
      "400/400 [==============================] - 0s 47us/step - loss: 0.1508 - acc: 0.9425\n",
      "Epoch 30/68\n",
      "400/400 [==============================] - 0s 50us/step - loss: 0.1469 - acc: 0.9525\n",
      "Epoch 31/68\n",
      "400/400 [==============================] - 0s 45us/step - loss: 0.1433 - acc: 0.9575\n",
      "Epoch 32/68\n",
      "400/400 [==============================] - 0s 50us/step - loss: 0.1408 - acc: 0.9550\n",
      "Epoch 33/68\n",
      "400/400 [==============================] - 0s 47us/step - loss: 0.1382 - acc: 0.9550\n",
      "Epoch 34/68\n",
      "400/400 [==============================] - 0s 47us/step - loss: 0.1359 - acc: 0.9575\n",
      "Epoch 35/68\n",
      "400/400 [==============================] - 0s 45us/step - loss: 0.1338 - acc: 0.9600\n",
      "Epoch 36/68\n",
      "400/400 [==============================] - 0s 42us/step - loss: 0.1317 - acc: 0.9625\n",
      "Epoch 37/68\n",
      "400/400 [==============================] - 0s 42us/step - loss: 0.1299 - acc: 0.9650\n",
      "Epoch 38/68\n",
      "400/400 [==============================] - 0s 40us/step - loss: 0.1285 - acc: 0.9625\n",
      "Epoch 39/68\n",
      "400/400 [==============================] - 0s 42us/step - loss: 0.1269 - acc: 0.9625\n",
      "Epoch 40/68\n",
      "400/400 [==============================] - 0s 45us/step - loss: 0.1256 - acc: 0.9625\n",
      "Epoch 41/68\n",
      "400/400 [==============================] - 0s 42us/step - loss: 0.1246 - acc: 0.9625\n",
      "Epoch 42/68\n",
      "400/400 [==============================] - 0s 45us/step - loss: 0.1238 - acc: 0.9650\n",
      "Epoch 43/68\n",
      "400/400 [==============================] - 0s 40us/step - loss: 0.1227 - acc: 0.9650\n",
      "Epoch 44/68\n",
      "400/400 [==============================] - 0s 42us/step - loss: 0.1219 - acc: 0.9650\n",
      "Epoch 45/68\n",
      "400/400 [==============================] - 0s 40us/step - loss: 0.1210 - acc: 0.9675\n",
      "Epoch 46/68\n",
      "400/400 [==============================] - 0s 57us/step - loss: 0.1205 - acc: 0.9650\n",
      "Epoch 47/68\n",
      "400/400 [==============================] - 0s 47us/step - loss: 0.1196 - acc: 0.9675\n",
      "Epoch 48/68\n",
      "400/400 [==============================] - 0s 45us/step - loss: 0.1188 - acc: 0.9675\n",
      "Epoch 49/68\n",
      "400/400 [==============================] - 0s 42us/step - loss: 0.1183 - acc: 0.9675\n",
      "Epoch 50/68\n",
      "400/400 [==============================] - 0s 45us/step - loss: 0.1174 - acc: 0.9675\n",
      "Epoch 51/68\n",
      "400/400 [==============================] - 0s 42us/step - loss: 0.1170 - acc: 0.9700\n",
      "Epoch 52/68\n",
      "400/400 [==============================] - 0s 45us/step - loss: 0.1161 - acc: 0.9700\n",
      "Epoch 53/68\n",
      "400/400 [==============================] - 0s 37us/step - loss: 0.1156 - acc: 0.9675\n",
      "Epoch 54/68\n",
      "400/400 [==============================] - 0s 40us/step - loss: 0.1149 - acc: 0.9700\n",
      "Epoch 55/68\n",
      "400/400 [==============================] - 0s 42us/step - loss: 0.1143 - acc: 0.9700\n",
      "Epoch 56/68\n",
      "400/400 [==============================] - 0s 42us/step - loss: 0.1136 - acc: 0.9700\n",
      "Epoch 57/68\n",
      "400/400 [==============================] - 0s 40us/step - loss: 0.1130 - acc: 0.9700\n",
      "Epoch 58/68\n",
      "400/400 [==============================] - 0s 37us/step - loss: 0.1124 - acc: 0.9700\n",
      "Epoch 59/68\n",
      "400/400 [==============================] - 0s 40us/step - loss: 0.1119 - acc: 0.9700\n",
      "Epoch 60/68\n",
      "400/400 [==============================] - 0s 40us/step - loss: 0.1114 - acc: 0.9700\n",
      "Epoch 61/68\n",
      "400/400 [==============================] - 0s 37us/step - loss: 0.1108 - acc: 0.9700\n",
      "Epoch 62/68\n",
      "400/400 [==============================] - 0s 37us/step - loss: 0.1100 - acc: 0.9700\n",
      "Epoch 63/68\n",
      "400/400 [==============================] - 0s 40us/step - loss: 0.1096 - acc: 0.9700\n",
      "Epoch 64/68\n",
      "400/400 [==============================] - 0s 32us/step - loss: 0.1091 - acc: 0.9700\n",
      "Epoch 65/68\n",
      "400/400 [==============================] - 0s 42us/step - loss: 0.1084 - acc: 0.9700\n",
      "Epoch 66/68\n",
      "400/400 [==============================] - 0s 35us/step - loss: 0.1082 - acc: 0.9700\n",
      "Epoch 67/68\n",
      "400/400 [==============================] - 0s 40us/step - loss: 0.1075 - acc: 0.9700\n",
      "Epoch 68/68\n",
      "400/400 [==============================] - 0s 37us/step - loss: 0.1071 - acc: 0.9700\n"
     ]
    },
    {
     "data": {
      "text/plain": [
       "<keras.callbacks.History at 0x1ba0a18d320>"
      ]
     },
     "execution_count": 10,
     "metadata": {},
     "output_type": "execute_result"
    }
   ],
   "source": [
    "model = Sequential()\n",
    "model.add(Dense(4, input_dim=4, activation='relu'))\n",
    "# model.add(BatchNormalization())\n",
    "model.add(Dense(6, activation='relu'))\n",
    "model.add(Dense(6, activation='relu'))\n",
    "model.add(Dense(4, activation='relu'))\n",
    "model.add(Dense(1, activation='sigmoid'))\n",
    "\n",
    "model.compile(loss='binary_crossentropy', optimizer='Adam', metrics=['accuracy'])\n",
    "# model.fit(dataSet[0][:-20], dataSet[1][:-20], epochs=100)\n",
    "model.fit(dataSet[0], dataSet[1], epochs=68)"
   ]
  },
  {
   "cell_type": "code",
   "execution_count": 8,
   "metadata": {},
   "outputs": [],
   "source": [
    "BatchNormalization?"
   ]
  },
  {
   "cell_type": "markdown",
   "metadata": {},
   "source": [
    "如果输出层的activation改为`softmax`, acc会降到55%"
   ]
  }
 ],
 "metadata": {
  "kernelspec": {
   "display_name": "Python 3",
   "language": "python",
   "name": "python3"
  },
  "language_info": {
   "codemirror_mode": {
    "name": "ipython",
    "version": 3
   },
   "file_extension": ".py",
   "mimetype": "text/x-python",
   "name": "python",
   "nbconvert_exporter": "python",
   "pygments_lexer": "ipython3",
   "version": "3.6.5"
  }
 },
 "nbformat": 4,
 "nbformat_minor": 2
}
