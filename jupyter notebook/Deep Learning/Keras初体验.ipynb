{
 "cells": [
  {
   "cell_type": "markdown",
   "metadata": {},
   "source": [
    "# Keras用起来真是舒服"
   ]
  },
  {
   "cell_type": "code",
   "execution_count": 13,
   "metadata": {},
   "outputs": [],
   "source": [
    "from keras.models import Sequential\n",
    "from keras.layers import Dense\n",
    "import numpy as np\n",
    "from sklearn.datasets import make_classification\n",
    "from keras.utils import np_utils"
   ]
  },
  {
   "cell_type": "code",
   "execution_count": 20,
   "metadata": {},
   "outputs": [],
   "source": [
    "dataSet = make_classification(n_classes=2, n_features=4, n_clusters_per_class=1, n_samples=400, n_redundant=0)"
   ]
  },
  {
   "cell_type": "code",
   "execution_count": 25,
   "metadata": {
    "scrolled": true
   },
   "outputs": [
    {
     "name": "stdout",
     "output_type": "stream",
     "text": [
      "Epoch 1/68\n",
      "400/400 [==============================] - 1s 3ms/step - loss: 0.6915 - acc: 0.4600\n",
      "Epoch 2/68\n",
      "400/400 [==============================] - 0s 165us/step - loss: 0.6853 - acc: 0.5025\n",
      "Epoch 3/68\n",
      "400/400 [==============================] - 0s 188us/step - loss: 0.6784 - acc: 0.5700\n",
      "Epoch 4/68\n",
      "400/400 [==============================] - 0s 194us/step - loss: 0.6716 - acc: 0.6700\n",
      "Epoch 5/68\n",
      "400/400 [==============================] - 0s 123us/step - loss: 0.6653 - acc: 0.6825\n",
      "Epoch 6/68\n",
      "400/400 [==============================] - 0s 96us/step - loss: 0.6580 - acc: 0.7100\n",
      "Epoch 7/68\n",
      "400/400 [==============================] - 0s 97us/step - loss: 0.6500 - acc: 0.7050\n",
      "Epoch 8/68\n",
      "400/400 [==============================] - 0s 100us/step - loss: 0.6406 - acc: 0.6975\n",
      "Epoch 9/68\n",
      "400/400 [==============================] - 0s 102us/step - loss: 0.6304 - acc: 0.7000\n",
      "Epoch 10/68\n",
      "400/400 [==============================] - 0s 101us/step - loss: 0.6179 - acc: 0.7000\n",
      "Epoch 11/68\n",
      "400/400 [==============================] - 0s 99us/step - loss: 0.6042 - acc: 0.7200\n",
      "Epoch 12/68\n",
      "400/400 [==============================] - 0s 89us/step - loss: 0.5892 - acc: 0.7500\n",
      "Epoch 13/68\n",
      "400/400 [==============================] - 0s 88us/step - loss: 0.5735 - acc: 0.7825\n",
      "Epoch 14/68\n",
      "400/400 [==============================] - 0s 101us/step - loss: 0.5576 - acc: 0.7925\n",
      "Epoch 15/68\n",
      "400/400 [==============================] - 0s 96us/step - loss: 0.5410 - acc: 0.8075\n",
      "Epoch 16/68\n",
      "400/400 [==============================] - 0s 100us/step - loss: 0.5245 - acc: 0.8300\n",
      "Epoch 17/68\n",
      "400/400 [==============================] - 0s 94us/step - loss: 0.5082 - acc: 0.8450\n",
      "Epoch 18/68\n",
      "400/400 [==============================] - 0s 98us/step - loss: 0.4928 - acc: 0.8600\n",
      "Epoch 19/68\n",
      "400/400 [==============================] - 0s 94us/step - loss: 0.4771 - acc: 0.8775\n",
      "Epoch 20/68\n",
      "400/400 [==============================] - 0s 94us/step - loss: 0.4619 - acc: 0.8925\n",
      "Epoch 21/68\n",
      "400/400 [==============================] - 0s 82us/step - loss: 0.4466 - acc: 0.9100\n",
      "Epoch 22/68\n",
      "400/400 [==============================] - 0s 57us/step - loss: 0.4318 - acc: 0.9125\n",
      "Epoch 23/68\n",
      "400/400 [==============================] - 0s 51us/step - loss: 0.4150 - acc: 0.9225\n",
      "Epoch 24/68\n",
      "400/400 [==============================] - 0s 78us/step - loss: 0.3975 - acc: 0.9250\n",
      "Epoch 25/68\n",
      "400/400 [==============================] - 0s 77us/step - loss: 0.3778 - acc: 0.9275\n",
      "Epoch 26/68\n",
      "400/400 [==============================] - 0s 68us/step - loss: 0.3560 - acc: 0.9300\n",
      "Epoch 27/68\n",
      "400/400 [==============================] - 0s 51us/step - loss: 0.3232 - acc: 0.9275\n",
      "Epoch 28/68\n",
      "400/400 [==============================] - 0s 62us/step - loss: 0.2841 - acc: 0.9325\n",
      "Epoch 29/68\n",
      "400/400 [==============================] - 0s 70us/step - loss: 0.2370 - acc: 0.9325\n",
      "Epoch 30/68\n",
      "400/400 [==============================] - 0s 69us/step - loss: 0.1950 - acc: 0.9375\n",
      "Epoch 31/68\n",
      "400/400 [==============================] - 0s 49us/step - loss: 0.1733 - acc: 0.9375\n",
      "Epoch 32/68\n",
      "400/400 [==============================] - 0s 54us/step - loss: 0.1625 - acc: 0.9425\n",
      "Epoch 33/68\n",
      "400/400 [==============================] - 0s 55us/step - loss: 0.1567 - acc: 0.9450\n",
      "Epoch 34/68\n",
      "400/400 [==============================] - 0s 51us/step - loss: 0.1544 - acc: 0.9450\n",
      "Epoch 35/68\n",
      "400/400 [==============================] - 0s 53us/step - loss: 0.1478 - acc: 0.9450\n",
      "Epoch 36/68\n",
      "400/400 [==============================] - 0s 51us/step - loss: 0.1456 - acc: 0.9450\n",
      "Epoch 37/68\n",
      "400/400 [==============================] - 0s 43us/step - loss: 0.1434 - acc: 0.9450\n",
      "Epoch 38/68\n",
      "400/400 [==============================] - 0s 55us/step - loss: 0.1411 - acc: 0.9475\n",
      "Epoch 39/68\n",
      "400/400 [==============================] - 0s 54us/step - loss: 0.1394 - acc: 0.9475\n",
      "Epoch 40/68\n",
      "400/400 [==============================] - 0s 52us/step - loss: 0.1376 - acc: 0.9500\n",
      "Epoch 41/68\n",
      "400/400 [==============================] - 0s 54us/step - loss: 0.1358 - acc: 0.9475\n",
      "Epoch 42/68\n",
      "400/400 [==============================] - 0s 49us/step - loss: 0.1341 - acc: 0.9525\n",
      "Epoch 43/68\n",
      "400/400 [==============================] - 0s 54us/step - loss: 0.1324 - acc: 0.9550\n",
      "Epoch 44/68\n",
      "400/400 [==============================] - 0s 55us/step - loss: 0.1309 - acc: 0.9550\n",
      "Epoch 45/68\n",
      "400/400 [==============================] - 0s 58us/step - loss: 0.1304 - acc: 0.9550\n",
      "Epoch 46/68\n",
      "400/400 [==============================] - 0s 49us/step - loss: 0.1285 - acc: 0.9600\n",
      "Epoch 47/68\n",
      "400/400 [==============================] - 0s 48us/step - loss: 0.1282 - acc: 0.9600\n",
      "Epoch 48/68\n",
      "400/400 [==============================] - 0s 58us/step - loss: 0.1264 - acc: 0.9600\n",
      "Epoch 49/68\n",
      "400/400 [==============================] - 0s 53us/step - loss: 0.1253 - acc: 0.9600\n",
      "Epoch 50/68\n",
      "400/400 [==============================] - 0s 55us/step - loss: 0.1250 - acc: 0.9600\n",
      "Epoch 51/68\n",
      "400/400 [==============================] - 0s 56us/step - loss: 0.1237 - acc: 0.9600\n",
      "Epoch 52/68\n",
      "400/400 [==============================] - 0s 56us/step - loss: 0.1239 - acc: 0.9600\n",
      "Epoch 53/68\n",
      "400/400 [==============================] - 0s 62us/step - loss: 0.1244 - acc: 0.9600\n",
      "Epoch 54/68\n",
      "400/400 [==============================] - 0s 57us/step - loss: 0.1218 - acc: 0.9600\n",
      "Epoch 55/68\n",
      "400/400 [==============================] - 0s 50us/step - loss: 0.1210 - acc: 0.9600\n",
      "Epoch 56/68\n",
      "400/400 [==============================] - 0s 45us/step - loss: 0.1204 - acc: 0.9600\n",
      "Epoch 57/68\n",
      "400/400 [==============================] - 0s 78us/step - loss: 0.1201 - acc: 0.9600\n",
      "Epoch 58/68\n",
      "400/400 [==============================] - 0s 75us/step - loss: 0.1193 - acc: 0.9600\n",
      "Epoch 59/68\n",
      "400/400 [==============================] - 0s 57us/step - loss: 0.1194 - acc: 0.9600\n",
      "Epoch 60/68\n",
      "400/400 [==============================] - 0s 47us/step - loss: 0.1182 - acc: 0.9600\n",
      "Epoch 61/68\n",
      "400/400 [==============================] - 0s 43us/step - loss: 0.1175 - acc: 0.9600\n",
      "Epoch 62/68\n",
      "400/400 [==============================] - 0s 42us/step - loss: 0.1174 - acc: 0.9600\n",
      "Epoch 63/68\n",
      "400/400 [==============================] - 0s 50us/step - loss: 0.1168 - acc: 0.9600\n",
      "Epoch 64/68\n",
      "400/400 [==============================] - 0s 42us/step - loss: 0.1167 - acc: 0.9600\n",
      "Epoch 65/68\n",
      "400/400 [==============================] - 0s 43us/step - loss: 0.1187 - acc: 0.9575\n",
      "Epoch 66/68\n",
      "400/400 [==============================] - 0s 39us/step - loss: 0.1155 - acc: 0.9625\n",
      "Epoch 67/68\n",
      "400/400 [==============================] - 0s 50us/step - loss: 0.1150 - acc: 0.9600\n",
      "Epoch 68/68\n",
      "400/400 [==============================] - 0s 42us/step - loss: 0.1147 - acc: 0.9650\n"
     ]
    },
    {
     "data": {
      "text/plain": [
       "<keras.callbacks.History at 0x17bf2d31a90>"
      ]
     },
     "execution_count": 25,
     "metadata": {},
     "output_type": "execute_result"
    }
   ],
   "source": [
    "model = Sequential()\n",
    "model.add(Dense(4, input_dim=4, activation='relu'))\n",
    "model.add(Dense(6, activation='relu'))\n",
    "model.add(Dense(6, activation='relu'))\n",
    "model.add(Dense(4, activation='relu'))\n",
    "model.add(Dense(1, activation='sigmoid'))\n",
    "\n",
    "model.compile(loss='binary_crossentropy', optimizer='Adam', metrics=['accuracy'])\n",
    "# model.fit(dataSet[0][:-20], dataSet[1][:-20], epochs=100)\n",
    "model.fit(dataSet[0], dataSet[1], epochs=68)"
   ]
  },
  {
   "cell_type": "markdown",
   "metadata": {},
   "source": [
    "如果输出层的activation改为`softmax`, acc会降到55%"
   ]
  }
 ],
 "metadata": {
  "kernelspec": {
   "display_name": "Python 3",
   "language": "python",
   "name": "python3"
  },
  "language_info": {
   "codemirror_mode": {
    "name": "ipython",
    "version": 3
   },
   "file_extension": ".py",
   "mimetype": "text/x-python",
   "name": "python",
   "nbconvert_exporter": "python",
   "pygments_lexer": "ipython3",
   "version": "3.6.5"
  }
 },
 "nbformat": 4,
 "nbformat_minor": 2
}
