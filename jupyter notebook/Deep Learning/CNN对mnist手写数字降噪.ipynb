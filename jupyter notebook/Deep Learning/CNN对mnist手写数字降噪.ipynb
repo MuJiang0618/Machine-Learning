{
 "cells": [
  {
   "cell_type": "markdown",
   "metadata": {},
   "source": [
    "# 自编码器对mnist图片降噪"
   ]
  },
  {
   "cell_type": "code",
   "execution_count": 1,
   "metadata": {},
   "outputs": [
    {
     "name": "stderr",
     "output_type": "stream",
     "text": [
      "D:\\study\\Anaconda\\lib\\site-packages\\h5py\\__init__.py:36: FutureWarning: Conversion of the second argument of issubdtype from `float` to `np.floating` is deprecated. In future, it will be treated as `np.float64 == np.dtype(float).type`.\n",
      "  from ._conv import register_converters as _register_converters\n",
      "Using TensorFlow backend.\n"
     ]
    }
   ],
   "source": [
    "from keras.datasets import mnist\n",
    "import numpy as np\n",
    "import matplotlib.pyplot as plt\n",
    "from keras.models import Sequential, Model\n",
    "from keras.layers import Dense, Convolution2D, MaxPooling2D, Flatten, Input\n",
    "from keras.optimizers import *\n",
    "import random"
   ]
  },
  {
   "cell_type": "markdown",
   "metadata": {},
   "source": [
    "## 数据预处理"
   ]
  },
  {
   "cell_type": "code",
   "execution_count": 2,
   "metadata": {
    "scrolled": true
   },
   "outputs": [],
   "source": [
    "(X_train, y_train), (X_test, y_test) = mnist.load_data()\n",
    "X_train = X_train.astype('float32') / 255.\n",
    "X_test = X_train.astype('float32') / 255.\n",
    "\n",
    "noised_X_train = X_train.copy()\n",
    "noised_X_test = X_test.copy()"
   ]
  },
  {
   "cell_type": "markdown",
   "metadata": {},
   "source": [
    "生成用于训练的噪化后的数据"
   ]
  },
  {
   "cell_type": "code",
   "execution_count": 3,
   "metadata": {
    "scrolled": true
   },
   "outputs": [],
   "source": [
    "noise_rate = 0.6\n",
    "\n",
    "noised_X_train = noised_X_train.reshape(-1, 1, 28, 28)\n",
    "noised_X_test = noised_X_test.reshape(-1, 1, 28, 28)\n",
    "\n",
    "random.seed(10)\n",
    "for i in range(noised_X_train.shape[0]):\n",
    "    noised_X_train[i] += noise_rate * np.random.randn(*noised_X_train[0].shape)\n",
    "    noised_X_train[i] = np.clip(noised_X_train[i], 0.0, 1.0)"
   ]
  },
  {
   "cell_type": "code",
   "execution_count": 4,
   "metadata": {},
   "outputs": [],
   "source": [
    "random.seed(10)\n",
    "for j in range(noised_X_test.shape[0]):\n",
    "    noised_X_test[j] += noise_rate * np.random.randn(*noised_X_test[0].shape)\n",
    "    noised_X_test[j] = np.clip(noised_X_test[j], 0.0, 1.0)"
   ]
  },
  {
   "cell_type": "code",
   "execution_count": 5,
   "metadata": {},
   "outputs": [
    {
     "data": {
      "text/plain": [
       "<matplotlib.image.AxesImage at 0x1e79a84deb8>"
      ]
     },
     "execution_count": 5,
     "metadata": {},
     "output_type": "execute_result"
    },
    {
     "data": {
      "image/png": "[encoded data removed]",
      "text/plain": [
       "<Figure size 432x288 with 1 Axes>"
      ]
     },
     "metadata": {},
     "output_type": "display_data"
    }
   ],
   "source": [
    "plt.imshow(noised_X_train[18].reshape(28,28), cmap='Greys')"
   ]
  },
  {
   "cell_type": "markdown",
   "metadata": {},
   "source": [
    "不知为何noised_X_train 和noised_X_test相比, 后者的噪点太大, 所以我把noised_X_train分成了训练集和测试集"
   ]
  },
  {
   "cell_type": "code",
   "execution_count": 6,
   "metadata": {},
   "outputs": [],
   "source": [
    "X_train = X_train.reshape(X_train.shape[0], X_train.shape[1] * X_train.shape[2])"
   ]
  },
  {
   "cell_type": "markdown",
   "metadata": {},
   "source": [
    "## 建模"
   ]
  },
  {
   "cell_type": "code",
   "execution_count": 7,
   "metadata": {},
   "outputs": [
    {
     "name": "stderr",
     "output_type": "stream",
     "text": [
      "D:\\study\\Anaconda\\lib\\site-packages\\ipykernel_launcher.py:5: UserWarning: Update your `Conv2D` call to the Keras 2 API: `Conv2D(32, (5, 5), padding=\"same\")`\n",
      "  \"\"\"\n",
      "D:\\study\\Anaconda\\lib\\site-packages\\ipykernel_launcher.py:9: UserWarning: Update your `MaxPooling2D` call to the Keras 2 API: `MaxPooling2D(pool_size=(2, 2), strides=(2, 2), padding=\"same\")`\n",
      "  if __name__ == '__main__':\n",
      "D:\\study\\Anaconda\\lib\\site-packages\\ipykernel_launcher.py:11: UserWarning: Update your `Conv2D` call to the Keras 2 API: `Conv2D(64, (5, 5), padding=\"same\")`\n",
      "  # This is added back by InteractiveShellApp.init_path()\n",
      "D:\\study\\Anaconda\\lib\\site-packages\\ipykernel_launcher.py:12: UserWarning: Update your `MaxPooling2D` call to the Keras 2 API: `MaxPooling2D(pool_size=(2, 2), strides=(2, 2), padding=\"same\")`\n",
      "  if sys.path[0] == '':\n",
      "D:\\study\\Anaconda\\lib\\site-packages\\ipykernel_launcher.py:14: UserWarning: Update your `Conv2D` call to the Keras 2 API: `Conv2D(128, (5, 5), padding=\"same\")`\n",
      "  \n",
      "D:\\study\\Anaconda\\lib\\site-packages\\ipykernel_launcher.py:15: UserWarning: Update your `MaxPooling2D` call to the Keras 2 API: `MaxPooling2D(pool_size=(2, 2), strides=(2, 2), padding=\"same\")`\n",
      "  from ipykernel import kernelapp as app\n"
     ]
    },
    {
     "name": "stdout",
     "output_type": "stream",
     "text": [
      "Epoch 1/2\n",
      "50000/50000 [==============================] - 57s 1ms/step - loss: 0.0486 - mean_squared_error: 0.0486\n",
      "Epoch 2/2\n",
      "50000/50000 [==============================] - 61s 1ms/step - loss: 0.0249 - mean_squared_error: 0.0249\n"
     ]
    },
    {
     "data": {
      "text/plain": [
       "<keras.callbacks.History at 0x1e79ab83c18>"
      ]
     },
     "execution_count": 7,
     "metadata": {},
     "output_type": "execute_result"
    }
   ],
   "source": [
    "model = Sequential()\n",
    "input_layer = Input(shape=(1, 28, 28))\n",
    "\n",
    "model = Convolution2D(32, 5, 5, \n",
    "                       border_mode='same')(input_layer)\n",
    "\n",
    "model = MaxPooling2D( pool_size=(2,2),   #每次处理 2X2 的方格\n",
    "                        strides=(2,2),    # 这个 2X2 的方格移动的步长\n",
    "                        border_mode='same')(model)\n",
    "\n",
    "model = Convolution2D(64, 5, 5, border_mode='same')(model)\n",
    "model = MaxPooling2D(pool_size=(2,2), border_mode='same', strides=(2,2))(model)\n",
    "\n",
    "model = Convolution2D(128, 5, 5, border_mode='same')(model)\n",
    "model = MaxPooling2D(pool_size=(2,2), border_mode='same', strides=(2,2))(model)\n",
    "\n",
    "model = Flatten()(model)\n",
    "\n",
    "model = Dense(784)(model)     #输出层\n",
    "\n",
    "picture_model = Model(input_layer, model)\n",
    "\n",
    "picture_model.compile(optimizer=Adam(lr=0.01), loss='MSE', metrics=['mse'])\n",
    "\n",
    "picture_model.fit(noised_X_train[:50000], X_train[:50000], epochs=2)"
   ]
  },
  {
   "cell_type": "markdown",
   "metadata": {},
   "source": [
    "检验模型效果"
   ]
  },
  {
   "cell_type": "code",
   "execution_count": 15,
   "metadata": {},
   "outputs": [
    {
     "name": "stdout",
     "output_type": "stream",
     "text": [
      "raw picture\n",
      "noised picture\n",
      "降噪后的图片\n"
     ]
    },
    {
     "data": {
      "text/plain": [
       "<matplotlib.image.AxesImage at 0x1e79cd43710>"
      ]
     },
     "execution_count": 15,
     "metadata": {},
     "output_type": "execute_result"
    },
    {
     "data": {
      "image/png": "[encoded data removed]",
      "text/plain": [
       "<Figure size 432x288 with 3 Axes>"
      ]
     },
     "metadata": {},
     "output_type": "display_data"
    }
   ],
   "source": [
    "picture = 50003  #选择要对比的图片\n",
    "\n",
    "output = picture_model.predict(noised_X_train[picture].reshape(-1, 1, 28, 28))\n",
    "\n",
    "plt.subplot(1, 3, 1,)\n",
    "print('raw picture')\n",
    "plt.imshow(X_train[picture].reshape(28, 28), cmap='Greys')\n",
    "\n",
    "plt.subplot(1, 3, 2)\n",
    "print('noised picture')\n",
    "plt.imshow(noised_X_train[picture].reshape(28, 28), cmap='Greys')\n",
    "\n",
    "plt.subplot(1, 3, 3)\n",
    "print('降噪后的图片')\n",
    "plt.imshow(output.reshape(28, 28), cmap='Greys')"
   ]
  },
  {
   "cell_type": "markdown",
   "metadata": {},
   "source": [
    "效果很不错诶"
   ]
  }
 ],
 "metadata": {
  "kernelspec": {
   "display_name": "Python 3",
   "language": "python",
   "name": "python3"
  },
  "language_info": {
   "codemirror_mode": {
    "name": "ipython",
    "version": 3
   },
   "file_extension": ".py",
   "mimetype": "text/x-python",
   "name": "python",
   "nbconvert_exporter": "python",
   "pygments_lexer": "ipython3",
   "version": "3.6.5"
  }
 },
 "nbformat": 4,
 "nbformat_minor": 2
}
