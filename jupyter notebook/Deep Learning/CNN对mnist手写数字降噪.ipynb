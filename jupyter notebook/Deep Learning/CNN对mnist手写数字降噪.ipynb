{
 "cells": [
  {
   "cell_type": "markdown",
   "metadata": {},
   "source": [
    "# 自编码器对mnist图片降噪"
   ]
  },
  {
   "cell_type": "code",
   "execution_count": 1,
   "metadata": {},
   "outputs": [
    {
     "name": "stderr",
     "output_type": "stream",
     "text": [
      "D:\\study\\Anaconda\\lib\\site-packages\\h5py\\__init__.py:36: FutureWarning: Conversion of the second argument of issubdtype from `float` to `np.floating` is deprecated. In future, it will be treated as `np.float64 == np.dtype(float).type`.\n",
      "  from ._conv import register_converters as _register_converters\n",
      "Using TensorFlow backend.\n"
     ]
    }
   ],
   "source": [
    "from keras.datasets import mnist\n",
    "import numpy as np\n",
    "import matplotlib.pyplot as plt\n",
    "from keras.models import Sequential\n",
    "from keras.layers import Dense, Convolution2D, MaxPooling2D, Flatten\n",
    "from keras.optimizers import *"
   ]
  },
  {
   "cell_type": "markdown",
   "metadata": {},
   "source": [
    "## 数据预处理"
   ]
  },
  {
   "cell_type": "code",
   "execution_count": 2,
   "metadata": {
    "scrolled": true
   },
   "outputs": [],
   "source": [
    "(X_train, y_train), (X_test, y_test) = mnist.load_data()\n",
    "X_train = X_train.astype('float32') / 255.\n",
    "X_test = X_train.astype('float32') / 255.\n",
    "\n",
    "noised_X_train = X_train.copy()"
   ]
  },
  {
   "cell_type": "markdown",
   "metadata": {},
   "source": [
    "生成用于训练的噪化后的数据"
   ]
  },
  {
   "cell_type": "code",
   "execution_count": 4,
   "metadata": {
    "scrolled": true
   },
   "outputs": [
    {
     "data": {
      "text/plain": [
       "array([[[[6.78575411e-02, 0.00000000e+00, 3.49057496e-01, ...,\n",
       "          3.55915606e-01, 6.72059774e-01, 6.72272563e-01],\n",
       "         [7.65982121e-02, 0.00000000e+00, 9.75382924e-02, ...,\n",
       "          1.14845246e-01, 1.46436393e-01, 0.00000000e+00],\n",
       "         [9.22519416e-02, 3.92281592e-01, 0.00000000e+00, ...,\n",
       "          0.00000000e+00, 0.00000000e+00, 0.00000000e+00],\n",
       "         ...,\n",
       "         [2.83307768e-02, 1.11366376e-01, 0.00000000e+00, ...,\n",
       "          5.84276132e-02, 1.51957110e-01, 0.00000000e+00],\n",
       "         [1.52063593e-01, 1.80487141e-01, 4.76990454e-02, ...,\n",
       "          0.00000000e+00, 2.94646561e-01, 0.00000000e+00],\n",
       "         [7.28144169e-01, 8.45670477e-02, 0.00000000e+00, ...,\n",
       "          3.68184030e-01, 0.00000000e+00, 1.87570810e-01]]],\n",
       "\n",
       "\n",
       "       [[[9.21213999e-02, 1.06455408e-01, 5.29946804e-01, ...,\n",
       "          4.80639070e-01, 2.16796976e-02, 3.88998449e-01],\n",
       "         [1.18623123e-01, 2.60325342e-01, 1.03372693e-01, ...,\n",
       "          1.80349369e-02, 9.50510874e-02, 0.00000000e+00],\n",
       "         [3.03028435e-01, 0.00000000e+00, 2.01150462e-01, ...,\n",
       "          3.34502012e-01, 0.00000000e+00, 0.00000000e+00],\n",
       "         ...,\n",
       "         [0.00000000e+00, 2.18411565e-01, 3.61753225e-01, ...,\n",
       "          0.00000000e+00, 1.40496448e-01, 1.77214429e-01],\n",
       "         [2.30955094e-01, 2.17802614e-01, 0.00000000e+00, ...,\n",
       "          0.00000000e+00, 9.03255790e-02, 0.00000000e+00],\n",
       "         [3.44299555e-01, 0.00000000e+00, 2.77047604e-02, ...,\n",
       "          2.79848874e-01, 0.00000000e+00, 1.80377781e-01]]],\n",
       "\n",
       "\n",
       "       [[[0.00000000e+00, 0.00000000e+00, 0.00000000e+00, ...,\n",
       "          0.00000000e+00, 1.02052666e-01, 0.00000000e+00],\n",
       "         [0.00000000e+00, 0.00000000e+00, 2.19994821e-02, ...,\n",
       "          3.43621284e-01, 2.15775698e-01, 6.82367533e-02],\n",
       "         [0.00000000e+00, 1.41858906e-02, 0.00000000e+00, ...,\n",
       "          0.00000000e+00, 2.52525628e-01, 0.00000000e+00],\n",
       "         ...,\n",
       "         [0.00000000e+00, 1.40560225e-01, 3.24625038e-02, ...,\n",
       "          3.37778836e-01, 1.25330076e-01, 2.51965940e-01],\n",
       "         [1.35884672e-01, 2.53407210e-01, 2.37074092e-01, ...,\n",
       "          5.23526430e-01, 3.50806624e-01, 3.24148446e-01],\n",
       "         [0.00000000e+00, 0.00000000e+00, 7.05386549e-02, ...,\n",
       "          1.30013630e-01, 1.54452443e-01, 4.12142195e-04]]],\n",
       "\n",
       "\n",
       "       ...,\n",
       "\n",
       "\n",
       "       [[[4.44086522e-01, 0.00000000e+00, 0.00000000e+00, ...,\n",
       "          6.23023927e-01, 1.60284996e-01, 0.00000000e+00],\n",
       "         [2.47524247e-01, 0.00000000e+00, 3.80401492e-01, ...,\n",
       "          2.42607266e-01, 1.26757577e-01, 9.97309759e-02],\n",
       "         [3.04623038e-01, 2.33536795e-01, 0.00000000e+00, ...,\n",
       "          2.60907635e-02, 0.00000000e+00, 3.24897528e-01],\n",
       "         ...,\n",
       "         [9.98241082e-02, 1.77066863e-01, 2.17008680e-01, ...,\n",
       "          1.00141779e-01, 0.00000000e+00, 3.70616823e-01],\n",
       "         [0.00000000e+00, 0.00000000e+00, 4.58207846e-01, ...,\n",
       "          0.00000000e+00, 0.00000000e+00, 3.59530091e-01],\n",
       "         [0.00000000e+00, 1.48528472e-01, 3.92833412e-01, ...,\n",
       "          8.79640803e-02, 1.80287123e-01, 5.14581025e-01]]],\n",
       "\n",
       "\n",
       "       [[[3.93734276e-02, 3.90029013e-01, 4.98165250e-01, ...,\n",
       "          0.00000000e+00, 2.58953661e-01, 0.00000000e+00],\n",
       "         [0.00000000e+00, 8.97226408e-02, 3.94123167e-01, ...,\n",
       "          9.92884785e-02, 3.74928564e-01, 0.00000000e+00],\n",
       "         [2.39121452e-01, 1.47090062e-01, 0.00000000e+00, ...,\n",
       "          0.00000000e+00, 0.00000000e+00, 0.00000000e+00],\n",
       "         ...,\n",
       "         [0.00000000e+00, 4.31419760e-01, 3.43147218e-01, ...,\n",
       "          1.04780821e-02, 2.40183607e-01, 4.15791273e-01],\n",
       "         [0.00000000e+00, 1.71737641e-01, 0.00000000e+00, ...,\n",
       "          4.47946459e-01, 2.30978608e-01, 0.00000000e+00],\n",
       "         [0.00000000e+00, 0.00000000e+00, 8.92508700e-02, ...,\n",
       "          4.11530942e-01, 1.81970056e-02, 2.76367158e-01]]],\n",
       "\n",
       "\n",
       "       [[[0.00000000e+00, 5.11587501e-01, 4.96177226e-02, ...,\n",
       "          2.91776031e-01, 0.00000000e+00, 0.00000000e+00],\n",
       "         [1.99956641e-01, 0.00000000e+00, 2.09162563e-01, ...,\n",
       "          5.22152558e-02, 0.00000000e+00, 0.00000000e+00],\n",
       "         [1.24698438e-01, 8.76952782e-02, 0.00000000e+00, ...,\n",
       "          2.07130790e-01, 0.00000000e+00, 1.85437247e-01],\n",
       "         ...,\n",
       "         [0.00000000e+00, 5.26783526e-01, 2.44710278e-02, ...,\n",
       "          0.00000000e+00, 4.64063406e-01, 1.78057387e-01],\n",
       "         [6.73623234e-02, 2.59287924e-01, 3.87487173e-01, ...,\n",
       "          4.48780432e-02, 0.00000000e+00, 1.33780807e-01],\n",
       "         [0.00000000e+00, 2.09347442e-01, 1.41156271e-01, ...,\n",
       "          8.04194212e-02, 3.97150870e-03, 0.00000000e+00]]]],\n",
       "      dtype=float32)"
      ]
     },
     "execution_count": 4,
     "metadata": {},
     "output_type": "execute_result"
    }
   ],
   "source": [
    "noise_rate = 0.2\n",
    "\n",
    "for i in range(noised_X_train.shape[0]):\n",
    "    noised_X_train[i] += noise_rate * np.random.randn(*X_train[0].shape)\n",
    "    noised_X_train[i] = np.clip(noised_X_train[i], 0.0, 1.0)\n",
    "\n",
    "noised_X_train.reshape(-1, 1, 28, 28)\n",
    "\n",
    "# plt.imshow(noised_X_train[1], cmap='Greys')"
   ]
  },
  {
   "cell_type": "code",
   "execution_count": 5,
   "metadata": {},
   "outputs": [],
   "source": [
    "X_train = X_train.reshape(X_train.shape[0], X_train.shape[1] * X_train.shape[2])"
   ]
  },
  {
   "cell_type": "code",
   "execution_count": 6,
   "metadata": {},
   "outputs": [
    {
     "data": {
      "text/plain": [
       "(60000, 28, 28)"
      ]
     },
     "execution_count": 6,
     "metadata": {},
     "output_type": "execute_result"
    }
   ],
   "source": [
    "noised_X_train.shape"
   ]
  },
  {
   "cell_type": "markdown",
   "metadata": {},
   "source": [
    "## 建模"
   ]
  },
  {
   "cell_type": "code",
   "execution_count": 7,
   "metadata": {},
   "outputs": [
    {
     "name": "stderr",
     "output_type": "stream",
     "text": [
      "D:\\study\\Anaconda\\lib\\site-packages\\ipykernel_launcher.py:4: UserWarning: Update your `Conv2D` call to the Keras 2 API: `Conv2D(32, (5, 5), input_shape=(1, 28, 28..., padding=\"same\")`\n",
      "  after removing the cwd from sys.path.\n",
      "D:\\study\\Anaconda\\lib\\site-packages\\ipykernel_launcher.py:8: UserWarning: Update your `MaxPooling2D` call to the Keras 2 API: `MaxPooling2D(pool_size=(2, 2), strides=(2, 2), padding=\"same\")`\n",
      "  \n",
      "D:\\study\\Anaconda\\lib\\site-packages\\ipykernel_launcher.py:10: UserWarning: Update your `Conv2D` call to the Keras 2 API: `Conv2D(64, (5, 5), padding=\"same\")`\n",
      "  # Remove the CWD from sys.path while we load stuff.\n",
      "D:\\study\\Anaconda\\lib\\site-packages\\ipykernel_launcher.py:11: UserWarning: Update your `MaxPooling2D` call to the Keras 2 API: `MaxPooling2D(pool_size=(2, 2), strides=(2, 2), padding=\"same\")`\n",
      "  # This is added back by InteractiveShellApp.init_path()\n"
     ]
    },
    {
     "ename": "ValueError",
     "evalue": "Error when checking input: expected conv2d_1_input to have 4 dimensions, but got array with shape (60000, 28, 28)",
     "output_type": "error",
     "traceback": [
      "\u001b[1;31m-----------------------------\u001b[0m",
      "\u001b[1;31mValueError\u001b[0mTraceback (most recent call last)",
      "\u001b[1;32m<ipython-input-7-e2c93e534099>\u001b[0m in \u001b[0;36m<module>\u001b[1;34m()\u001b[0m\n\u001b[0;32m     17\u001b[0m \u001b[0mmodel\u001b[0m\u001b[1;33m.\u001b[0m\u001b[0mcompile\u001b[0m\u001b[1;33m(\u001b[0m\u001b[0moptimizer\u001b[0m\u001b[1;33m=\u001b[0m\u001b[0mAdam\u001b[0m\u001b[1;33m(\u001b[0m\u001b[0mlr\u001b[0m\u001b[1;33m=\u001b[0m\u001b[1;36m0.01\u001b[0m\u001b[1;33m)\u001b[0m\u001b[1;33m,\u001b[0m \u001b[0mloss\u001b[0m\u001b[1;33m=\u001b[0m\u001b[1;34m'MSE'\u001b[0m\u001b[1;33m,\u001b[0m \u001b[0mmetrics\u001b[0m\u001b[1;33m=\u001b[0m\u001b[1;33m[\u001b[0m\u001b[1;34m'accuracy'\u001b[0m\u001b[1;33m]\u001b[0m\u001b[1;33m)\u001b[0m\u001b[1;33m\u001b[0m\u001b[0m\n\u001b[0;32m     18\u001b[0m \u001b[1;33m\u001b[0m\u001b[0m\n\u001b[1;32m---> 19\u001b[1;33m \u001b[0mmodel\u001b[0m\u001b[1;33m.\u001b[0m\u001b[0mfit\u001b[0m\u001b[1;33m(\u001b[0m\u001b[0mnoised_X_train\u001b[0m\u001b[1;33m,\u001b[0m \u001b[0mX_train\u001b[0m\u001b[1;33m,\u001b[0m \u001b[0mepochs\u001b[0m\u001b[1;33m=\u001b[0m\u001b[1;36m2\u001b[0m\u001b[1;33m)\u001b[0m\u001b[1;33m\u001b[0m\u001b[0m\n\u001b[0m",
      "\u001b[1;32mD:\\study\\Anaconda\\lib\\site-packages\\keras\\engine\\training.py\u001b[0m in \u001b[0;36mfit\u001b[1;34m(self, x, y, batch_size, epochs, verbose, callbacks, validation_split, validation_data, shuffle, class_weight, sample_weight, initial_epoch, steps_per_epoch, validation_steps, **kwargs)\u001b[0m\n\u001b[0;32m    948\u001b[0m             \u001b[0msample_weight\u001b[0m\u001b[1;33m=\u001b[0m\u001b[0msample_weight\u001b[0m\u001b[1;33m,\u001b[0m\u001b[1;33m\u001b[0m\u001b[0m\n\u001b[0;32m    949\u001b[0m             \u001b[0mclass_weight\u001b[0m\u001b[1;33m=\u001b[0m\u001b[0mclass_weight\u001b[0m\u001b[1;33m,\u001b[0m\u001b[1;33m\u001b[0m\u001b[0m\n\u001b[1;32m--> 950\u001b[1;33m             batch_size=batch_size)\n\u001b[0m\u001b[0;32m    951\u001b[0m         \u001b[1;31m# Prepare validation data.\u001b[0m\u001b[1;33m\u001b[0m\u001b[1;33m\u001b[0m\u001b[0m\n\u001b[0;32m    952\u001b[0m         \u001b[0mdo_validation\u001b[0m \u001b[1;33m=\u001b[0m \u001b[1;32mFalse\u001b[0m\u001b[1;33m\u001b[0m\u001b[0m\n",
      "\u001b[1;32mD:\\study\\Anaconda\\lib\\site-packages\\keras\\engine\\training.py\u001b[0m in \u001b[0;36m_standardize_user_data\u001b[1;34m(self, x, y, sample_weight, class_weight, check_array_lengths, batch_size)\u001b[0m\n\u001b[0;32m    747\u001b[0m             \u001b[0mfeed_input_shapes\u001b[0m\u001b[1;33m,\u001b[0m\u001b[1;33m\u001b[0m\u001b[0m\n\u001b[0;32m    748\u001b[0m             \u001b[0mcheck_batch_axis\u001b[0m\u001b[1;33m=\u001b[0m\u001b[1;32mFalse\u001b[0m\u001b[1;33m,\u001b[0m  \u001b[1;31m# Don't enforce the batch size.\u001b[0m\u001b[1;33m\u001b[0m\u001b[0m\n\u001b[1;32m--> 749\u001b[1;33m             exception_prefix='input')\n\u001b[0m\u001b[0;32m    750\u001b[0m \u001b[1;33m\u001b[0m\u001b[0m\n\u001b[0;32m    751\u001b[0m         \u001b[1;32mif\u001b[0m \u001b[0my\u001b[0m \u001b[1;32mis\u001b[0m \u001b[1;32mnot\u001b[0m \u001b[1;32mNone\u001b[0m\u001b[1;33m:\u001b[0m\u001b[1;33m\u001b[0m\u001b[0m\n",
      "\u001b[1;32mD:\\study\\Anaconda\\lib\\site-packages\\keras\\engine\\training_utils.py\u001b[0m in \u001b[0;36mstandardize_input_data\u001b[1;34m(data, names, shapes, check_batch_axis, exception_prefix)\u001b[0m\n\u001b[0;32m    125\u001b[0m                         \u001b[1;34m': expected '\u001b[0m \u001b[1;33m+\u001b[0m \u001b[0mnames\u001b[0m\u001b[1;33m[\u001b[0m\u001b[0mi\u001b[0m\u001b[1;33m]\u001b[0m \u001b[1;33m+\u001b[0m \u001b[1;34m' to have '\u001b[0m \u001b[1;33m+\u001b[0m\u001b[1;33m\u001b[0m\u001b[0m\n\u001b[0;32m    126\u001b[0m                         \u001b[0mstr\u001b[0m\u001b[1;33m(\u001b[0m\u001b[0mlen\u001b[0m\u001b[1;33m(\u001b[0m\u001b[0mshape\u001b[0m\u001b[1;33m)\u001b[0m\u001b[1;33m)\u001b[0m \u001b[1;33m+\u001b[0m \u001b[1;34m' dimensions, but got array '\u001b[0m\u001b[1;33m\u001b[0m\u001b[0m\n\u001b[1;32m--> 127\u001b[1;33m                         'with shape ' + str(data_shape))\n\u001b[0m\u001b[0;32m    128\u001b[0m                 \u001b[1;32mif\u001b[0m \u001b[1;32mnot\u001b[0m \u001b[0mcheck_batch_axis\u001b[0m\u001b[1;33m:\u001b[0m\u001b[1;33m\u001b[0m\u001b[0m\n\u001b[0;32m    129\u001b[0m                     \u001b[0mdata_shape\u001b[0m \u001b[1;33m=\u001b[0m \u001b[0mdata_shape\u001b[0m\u001b[1;33m[\u001b[0m\u001b[1;36m1\u001b[0m\u001b[1;33m:\u001b[0m\u001b[1;33m]\u001b[0m\u001b[1;33m\u001b[0m\u001b[0m\n",
      "\u001b[1;31mValueError\u001b[0m: Error when checking input: expected conv2d_1_input to have 4 dimensions, but got array with shape (60000, 28, 28)"
     ]
    }
   ],
   "source": [
    "model = Sequential()\n",
    "model.add(Convolution2D(32, 5, 5, \n",
    "                       border_mode='same',\n",
    "                       input_shape=(1, 28, 28)))\n",
    "\n",
    "model.add(MaxPooling2D( pool_size=(2,2),   #每次处理 2X2 的方格\n",
    "                        strides=(2,2),    # 这个 2X2 的方格移动的步长\n",
    "                        border_mode='same'))\n",
    "\n",
    "model.add(Convolution2D(64, 5, 5, border_mode='same'))\n",
    "model.add(MaxPooling2D(pool_size=(2,2), border_mode='same', strides=(2,2)))\n",
    "\n",
    "model.add(Flatten())\n",
    "model.add(Dense(1024, activation='relu'))\n",
    "model.add(Dense(784))\n",
    "\n",
    "model.compile(optimizer=Adam(lr=0.01), loss='MSE', metrics=['accuracy'])\n",
    "\n",
    "model.fit(noised_X_train, X_train, epochs=2)"
   ]
  }
 ],
 "metadata": {
  "kernelspec": {
   "display_name": "Python 3",
   "language": "python",
   "name": "python3"
  },
  "language_info": {
   "codemirror_mode": {
    "name": "ipython",
    "version": 3
   },
   "file_extension": ".py",
   "mimetype": "text/x-python",
   "name": "python",
   "nbconvert_exporter": "python",
   "pygments_lexer": "ipython3",
   "version": "3.6.5"
  }
 },
 "nbformat": 4,
 "nbformat_minor": 2
}
