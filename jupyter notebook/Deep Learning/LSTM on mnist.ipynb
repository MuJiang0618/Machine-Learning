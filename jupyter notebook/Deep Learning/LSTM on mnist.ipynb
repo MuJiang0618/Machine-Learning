{
 "cells": [
  {
   "cell_type": "markdown",
   "metadata": {},
   "source": [
    "# LSTM on mnist"
   ]
  },
  {
   "cell_type": "code",
   "execution_count": 1,
   "metadata": {},
   "outputs": [
    {
     "name": "stderr",
     "output_type": "stream",
     "text": [
      "D:\\study\\Anaconda\\lib\\site-packages\\h5py\\__init__.py:36: FutureWarning: Conversion of the second argument of issubdtype from `float` to `np.floating` is deprecated. In future, it will be treated as `np.float64 == np.dtype(float).type`.\n",
      "  from ._conv import register_converters as _register_converters\n",
      "Using TensorFlow backend.\n"
     ]
    }
   ],
   "source": [
    "# -*- coding:utf-8 -*-\n",
    "import tensorflow as tf\n",
    "from keras.datasets import mnist\n",
    "import numpy as np\n",
    "import matplotlib.pyplot as plt\n",
    "from keras.utils import np_utils"
   ]
  },
  {
   "cell_type": "markdown",
   "metadata": {},
   "source": [
    "## 载入数据"
   ]
  },
  {
   "cell_type": "code",
   "execution_count": 2,
   "metadata": {},
   "outputs": [],
   "source": [
    "(X_train, y_train), (X_test, y_test) = mnist.load_data()\n",
    "\n",
    "tf.set_random_seed(1)\n",
    "np.random.seed(1)\n",
    "\n",
    "# Hyper Parameters\n",
    "batch_size = 300\n",
    "time_steps = 28          # rnn time step / image height\n",
    "input_size = 28         # rnn input size / image width\n",
    "lr = 0.005               # learning rate\n",
    "num_class = 10"
   ]
  },
  {
   "cell_type": "markdown",
   "metadata": {},
   "source": [
    "## Model"
   ]
  },
  {
   "cell_type": "code",
   "execution_count": 3,
   "metadata": {},
   "outputs": [],
   "source": [
    "image = tf.placeholder(tf.float32, [batch_size, 28, 28])\n",
    "y = tf.placeholder(tf.int32, [None, num_class])\n",
    "\n",
    "lstm_cell = tf.nn.rnn_cell.BasicLSTMCell(num_units=64)\n",
    "outputs, (h_m, h_b) = tf.nn.dynamic_rnn(\n",
    "    lstm_cell,                   # cell you have chosen\n",
    "    image,                      # input\n",
    "    initial_state=None,         # the initial hidden state\n",
    "    dtype=tf.float32,           # must given if set initial_state = None\n",
    "    time_major=False,           # False: (batch, time step, input); True: (time step, batch, input)\n",
    ")"
   ]
  },
  {
   "cell_type": "code",
   "execution_count": 4,
   "metadata": {},
   "outputs": [],
   "source": [
    "pred = tf.layers.dense(outputs[:, -1, :], num_class)\n",
    "loss = tf.losses.softmax_cross_entropy(onehot_labels=y, logits=pred)\n",
    "train_op = tf.train.AdamOptimizer(lr).minimize(loss)\n",
    "a = tf.equal(tf.argmax(y, axis=1), tf.argmax(pred, axis=1))\n",
    "accuracy = tf.reduce_mean(tf.cast(a, tf.float32))"
   ]
  },
  {
   "cell_type": "code",
   "execution_count": 5,
   "metadata": {},
   "outputs": [],
   "source": [
    "class Batch(object):\n",
    "    def __init__(self, X, y):\n",
    "        self.X = X\n",
    "        self.y = y\n",
    "        self._point = 0\n",
    "        self._dataSize = X.shape[0]   #样本总数\n",
    "\n",
    "    def next_batch(self, batch_size, shuffle=True):\n",
    "        if batch_size > self._dataSize:\n",
    "            raise RangeError\n",
    "\n",
    "        if shuffle == True:\n",
    "            index = np.random.randint(0, self._dataSize, batch_size, dtype=int)\n",
    "            return self.X[index], self.y[index]\n",
    "        \n",
    "        elif shuffle != True:\n",
    "            pass"
   ]
  },
  {
   "cell_type": "code",
   "execution_count": 6,
   "metadata": {
    "scrolled": true
   },
   "outputs": [
    {
     "name": "stdout",
     "output_type": "stream",
     "text": [
      "loss: 2.4071  accuracy: 0.07\n",
      "loss: 0.7468  accuracy: 0.74\n",
      "loss: 0.5179  accuracy: 0.82\n",
      "loss: 0.4527  accuracy: 0.86\n",
      "loss: 0.4488  accuracy: 0.85\n",
      "loss: 0.4978  accuracy: 0.83\n",
      "loss: 0.3667  accuracy: 0.88\n",
      "loss: 0.3336  accuracy: 0.89\n",
      "loss: 0.2879  accuracy: 0.89\n",
      "loss: 0.3017  accuracy: 0.90\n",
      "loss: 0.2790  accuracy: 0.91\n",
      "loss: 0.3678  accuracy: 0.88\n",
      "loss: 0.2672  accuracy: 0.92\n",
      "loss: 0.2765  accuracy: 0.90\n",
      "loss: 0.2524  accuracy: 0.90\n",
      "loss: 0.3256  accuracy: 0.90\n",
      "loss: 0.2834  accuracy: 0.91\n",
      "loss: 0.2235  accuracy: 0.94\n",
      "loss: 0.3001  accuracy: 0.90\n",
      "loss: 0.2183  accuracy: 0.92\n"
     ]
    }
   ],
   "source": [
    "with tf.Session() as sess:\n",
    "    sess.run(tf.global_variables_initializer())\n",
    "    sess.run(tf.local_variables_initializer())\n",
    "#     writer = tf.summary.FileWriter(r\"D:\\Repositories\\Machine-Learning\\jupyter notebook\\tensofboard\", sess.graph)\n",
    "    train_round = 1000\n",
    "    batch = Batch(X_train, y_train)\n",
    "    \n",
    "    for i in range(train_round):\n",
    "        train_X, train_y = batch.next_batch(batch_size)\n",
    "        train_y = np_utils.to_categorical(train_y, num_class)\n",
    "        _, _loss, _accuracy= sess.run([train_op, loss, accuracy], feed_dict={image: train_X, y: train_y})\n",
    "        if i % 50 == 0:\n",
    "            print('loss: %.4f  accuracy: %.2f' % (_loss, _accuracy))"
   ]
  },
  {
   "cell_type": "markdown",
   "metadata": {},
   "source": [
    "正确率达 90%"
   ]
  }
 ],
 "metadata": {
  "kernelspec": {
   "display_name": "Python 3",
   "language": "python",
   "name": "python3"
  },
  "language_info": {
   "codemirror_mode": {
    "name": "ipython",
    "version": 3
   },
   "file_extension": ".py",
   "mimetype": "text/x-python",
   "name": "python",
   "nbconvert_exporter": "python",
   "pygments_lexer": "ipython3",
   "version": "3.6.5"
  }
 },
 "nbformat": 4,
 "nbformat_minor": 2
}
