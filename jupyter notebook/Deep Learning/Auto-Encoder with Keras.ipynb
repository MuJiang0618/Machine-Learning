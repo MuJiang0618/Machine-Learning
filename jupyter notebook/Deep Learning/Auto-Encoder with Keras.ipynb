{
 "cells": [
  {
   "cell_type": "markdown",
   "metadata": {},
   "source": [
    "# Auto-Encoder with Keras"
   ]
  },
  {
   "cell_type": "code",
   "execution_count": 1,
   "metadata": {},
   "outputs": [
    {
     "name": "stderr",
     "output_type": "stream",
     "text": [
      "D:\\study\\Anaconda\\lib\\site-packages\\h5py\\__init__.py:36: FutureWarning: Conversion of the second argument of issubdtype from `float` to `np.floating` is deprecated. In future, it will be treated as `np.float64 == np.dtype(float).type`.\n",
      "  from ._conv import register_converters as _register_converters\n",
      "Using TensorFlow backend.\n"
     ]
    }
   ],
   "source": [
    "import numpy as np\n",
    "from keras.datasets import mnist\n",
    "from keras.models import Model\n",
    "from keras.layers import Dense, Input\n",
    "import matplotlib.pyplot as plt"
   ]
  },
  {
   "cell_type": "markdown",
   "metadata": {},
   "source": [
    "## 数据预处理"
   ]
  },
  {
   "cell_type": "code",
   "execution_count": 2,
   "metadata": {
    "scrolled": true
   },
   "outputs": [],
   "source": [
    "(x_train, y_train), (x_test, y_test) = mnist.load_data()\n",
    "\n",
    "x_train = x_train.astype('float32') / 255. - 0.5   #把像素值限制到-0.5 to 0.5\n",
    "x_test = x_test.astype('float32') / 255. - 0.5\n",
    "\n",
    "x_train = x_train.reshape((x_train.shape[0], -1))  # 将28X28的像素矩阵转化为行向量\n",
    "x_test = x_test.reshape((x_test.shape[0], -1))"
   ]
  },
  {
   "cell_type": "markdown",
   "metadata": {},
   "source": [
    "## 建模"
   ]
  },
  {
   "cell_type": "code",
   "execution_count": 3,
   "metadata": {},
   "outputs": [],
   "source": [
    "def dataPreProcess(x_train):\n",
    "    x_train = x_train.reshape(x_train.shape[0], -1)\n",
    "    \n",
    "    return x_train"
   ]
  },
  {
   "cell_type": "code",
   "execution_count": 81,
   "metadata": {},
   "outputs": [],
   "source": [
    "# encoder section\n",
    "def autoEncoder_train(x_train, encoded_dim=8):\n",
    "#     x_train = dataPreProcess(x_train)\n",
    "\n",
    "    input_img = Input(shape=(x_train.shape[1], ))   # 实例化1个tensor\n",
    "    encoded_model = Dense(128, activation='relu')(input_img)\n",
    "    encoded_model = Dense(64, activation='relu')(encoded_model)\n",
    "    encoded_model = Dense(10, activation='relu')(encoded_model)\n",
    "    code_layer = Dense(encoded_dim)(encoded_model)\n",
    "    \n",
    "    decoded_model = Dense(10, activation='relu')(code_layer)\n",
    "    decoded_model = Dense(64, activation='relu')(decoded_model)\n",
    "    decoded_model = Dense(128, activation='relu')(decoded_model)\n",
    "    decoded_model = Dense(784, activation='relu')(decoded_model)\n",
    "    \n",
    "    output_decoded_picture = Model(input_img, decoded_model)\n",
    "    output_decoded_picture.compile(loss='mse', optimizer='Adam')\n",
    "    output_decoded_picture.fit(x_train, x_train, epochs=1)\n",
    "    \n",
    "    output_code = Model(input_img, code_layer)\n",
    "    \n",
    "    return output_code, output_decoded_picture"
   ]
  },
  {
   "cell_type": "code",
   "execution_count": 82,
   "metadata": {},
   "outputs": [
    {
     "name": "stdout",
     "output_type": "stream",
     "text": [
      "Epoch 1/1\n",
      "60000/60000 [==============================] - 7s 122us/step - loss: 0.2289\n"
     ]
    }
   ],
   "source": [
    "output_code_layer, output_decoded_picture_layer = autoEncoder_train(x_train)"
   ]
  },
  {
   "cell_type": "code",
   "execution_count": 49,
   "metadata": {},
   "outputs": [],
   "source": [
    "def autoEncoder(picture):\n",
    "    plt.ion()\n",
    "    print('original picture↓')\n",
    "    plt.imshow(picture.reshape(28, 28), cmap='Greys')\n",
    "    plt.show()\n",
    "#     output_code_layer, output_decoded_picture_layer = autoEncoder_train(x_train, encoded_dim)\n",
    "    code = output_code_layer.predict(picture.reshape(-1, 784))\n",
    "    decoded_picture = output_decoded_picture_layer.predict(picture.reshape(-1, 784))\n",
    "    \n",
    "    print('decoded picture↓')\n",
    "    plt.imshow(decoded_picture[0].reshape(28, 28), cmap='Greys')\n",
    "    plt.show()\n",
    "    \n",
    "    return code"
   ]
  },
  {
   "cell_type": "code",
   "execution_count": 83,
   "metadata": {},
   "outputs": [
    {
     "name": "stdout",
     "output_type": "stream",
     "text": [
      "original picture↓\n"
     ]
    },
    {
     "data": {
      "image/png": "[encoded data removed]",
      "text/plain": [
       "<Figure size 432x288 with 1 Axes>"
      ]
     },
     "metadata": {},
     "output_type": "display_data"
    },
    {
     "name": "stdout",
     "output_type": "stream",
     "text": [
      "decoded picture↓\n"
     ]
    },
    {
     "data": {
      "image/png": "[encoded data removed]",
      "text/plain": [
       "<Figure size 432x288 with 1 Axes>"
      ]
     },
     "metadata": {},
     "output_type": "display_data"
    }
   ],
   "source": [
    "code = autoEncoder(x_test[0])"
   ]
  },
  {
   "cell_type": "markdown",
   "metadata": {},
   "source": [
    "answer: 注意Model对象的predict, fit方法都要求输入的对象是ndarray, 不能是(784, )之类的1阶ndarray, 如果要输入单个样本, 用 sample.reshape(-1, 任意数字), 这样就转化成了2阶ndarray. 在scikit-learn中, estimator的predict, fit方法也有这样的要求, 值得注意"
   ]
  },
  {
   "cell_type": "markdown",
   "metadata": {},
   "source": [
    "也许上述要求是因为Input(shape(123, ))的原因?也许这样就能处理一次输入多个样本并给出estimation"
   ]
  }
 ],
 "metadata": {
  "kernelspec": {
   "display_name": "Python 3",
   "language": "python",
   "name": "python3"
  },
  "language_info": {
   "codemirror_mode": {
    "name": "ipython",
    "version": 3
   },
   "file_extension": ".py",
   "mimetype": "text/x-python",
   "name": "python",
   "nbconvert_exporter": "python",
   "pygments_lexer": "ipython3",
   "version": "3.6.5"
  }
 },
 "nbformat": 4,
 "nbformat_minor": 2
}
